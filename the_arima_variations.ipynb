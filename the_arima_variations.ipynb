{
 "cells": [
  {
   "cell_type": "code",
   "execution_count": 1,
   "metadata": {},
   "outputs": [],
   "source": [
    "import statsmodels\n",
    "import statsmodels.tsa.arima.model\n",
    "import scipy\n",
    "import scipy.stats\n",
    "import matplotlib.pyplot as plt"
   ]
  },
  {
   "cell_type": "markdown",
   "metadata": {},
   "source": [
    "## AR(1)"
   ]
  },
  {
   "cell_type": "code",
   "execution_count": 2,
   "metadata": {},
   "outputs": [
    {
     "data": {
      "text/plain": [
       "array([-0.04989985,  0.49616834,  0.98459052])"
      ]
     },
     "execution_count": 2,
     "metadata": {},
     "output_type": "execute_result"
    }
   ],
   "source": [
    "import numpy as np\n",
    "np.random.seed(12345)\n",
    "arparams = np.array([.4])\n",
    "maparams = np.array([])\n",
    "ar = np.r_[1, -arparams] # add zero-lag and negate\n",
    "ma = np.r_[1, maparams] # add zero-lag\n",
    "y = statsmodels.tsa.arima_process.arma_generate_sample(ar, ma, 250)\n",
    "model = statsmodels.tsa.arima.model.ARIMA(y, order=(1, 0, 0)).fit()\n",
    "model.params"
   ]
  },
  {
   "cell_type": "code",
   "execution_count": 3,
   "metadata": {},
   "outputs": [
    {
     "data": {
      "text/html": [
       "<table class=\"simpletable\">\n",
       "<caption>SARIMAX Results</caption>\n",
       "<tr>\n",
       "  <th>Dep. Variable:</th>           <td>y</td>        <th>  No. Observations:  </th>    <td>250</td>  \n",
       "</tr>\n",
       "<tr>\n",
       "  <th>Model:</th>            <td>ARIMA(1, 0, 0)</td>  <th>  Log Likelihood     </th> <td>-352.937</td>\n",
       "</tr>\n",
       "<tr>\n",
       "  <th>Date:</th>            <td>Mon, 02 Aug 2021</td> <th>  AIC                </th>  <td>711.875</td>\n",
       "</tr>\n",
       "<tr>\n",
       "  <th>Time:</th>                <td>14:13:37</td>     <th>  BIC                </th>  <td>722.439</td>\n",
       "</tr>\n",
       "<tr>\n",
       "  <th>Sample:</th>                  <td>0</td>        <th>  HQIC               </th>  <td>716.127</td>\n",
       "</tr>\n",
       "<tr>\n",
       "  <th></th>                      <td> - 250</td>      <th>                     </th>     <td> </td>   \n",
       "</tr>\n",
       "<tr>\n",
       "  <th>Covariance Type:</th>        <td>opg</td>       <th>                     </th>     <td> </td>   \n",
       "</tr>\n",
       "</table>\n",
       "<table class=\"simpletable\">\n",
       "<tr>\n",
       "     <td></td>       <th>coef</th>     <th>std err</th>      <th>z</th>      <th>P>|z|</th>  <th>[0.025</th>    <th>0.975]</th>  \n",
       "</tr>\n",
       "<tr>\n",
       "  <th>const</th>  <td>   -0.0499</td> <td>    0.125</td> <td>   -0.400</td> <td> 0.689</td> <td>   -0.294</td> <td>    0.195</td>\n",
       "</tr>\n",
       "<tr>\n",
       "  <th>ar.L1</th>  <td>    0.4962</td> <td>    0.055</td> <td>    9.056</td> <td> 0.000</td> <td>    0.389</td> <td>    0.604</td>\n",
       "</tr>\n",
       "<tr>\n",
       "  <th>sigma2</th> <td>    0.9846</td> <td>    0.092</td> <td>   10.712</td> <td> 0.000</td> <td>    0.804</td> <td>    1.165</td>\n",
       "</tr>\n",
       "</table>\n",
       "<table class=\"simpletable\">\n",
       "<tr>\n",
       "  <th>Ljung-Box (L1) (Q):</th>     <td>0.00</td> <th>  Jarque-Bera (JB):  </th> <td>0.29</td>\n",
       "</tr>\n",
       "<tr>\n",
       "  <th>Prob(Q):</th>                <td>0.96</td> <th>  Prob(JB):          </th> <td>0.87</td>\n",
       "</tr>\n",
       "<tr>\n",
       "  <th>Heteroskedasticity (H):</th> <td>0.91</td> <th>  Skew:              </th> <td>0.04</td>\n",
       "</tr>\n",
       "<tr>\n",
       "  <th>Prob(H) (two-sided):</th>    <td>0.67</td> <th>  Kurtosis:          </th> <td>2.85</td>\n",
       "</tr>\n",
       "</table><br/><br/>Warnings:<br/>[1] Covariance matrix calculated using the outer product of gradients (complex-step)."
      ],
      "text/plain": [
       "<class 'statsmodels.iolib.summary.Summary'>\n",
       "\"\"\"\n",
       "                               SARIMAX Results                                \n",
       "==============================================================================\n",
       "Dep. Variable:                      y   No. Observations:                  250\n",
       "Model:                 ARIMA(1, 0, 0)   Log Likelihood                -352.937\n",
       "Date:                Mon, 02 Aug 2021   AIC                            711.875\n",
       "Time:                        14:13:37   BIC                            722.439\n",
       "Sample:                             0   HQIC                           716.127\n",
       "                                - 250                                         \n",
       "Covariance Type:                  opg                                         \n",
       "==============================================================================\n",
       "                 coef    std err          z      P>|z|      [0.025      0.975]\n",
       "------------------------------------------------------------------------------\n",
       "const         -0.0499      0.125     -0.400      0.689      -0.294       0.195\n",
       "ar.L1          0.4962      0.055      9.056      0.000       0.389       0.604\n",
       "sigma2         0.9846      0.092     10.712      0.000       0.804       1.165\n",
       "===================================================================================\n",
       "Ljung-Box (L1) (Q):                   0.00   Jarque-Bera (JB):                 0.29\n",
       "Prob(Q):                              0.96   Prob(JB):                         0.87\n",
       "Heteroskedasticity (H):               0.91   Skew:                             0.04\n",
       "Prob(H) (two-sided):                  0.67   Kurtosis:                         2.85\n",
       "===================================================================================\n",
       "\n",
       "Warnings:\n",
       "[1] Covariance matrix calculated using the outer product of gradients (complex-step).\n",
       "\"\"\""
      ]
     },
     "execution_count": 3,
     "metadata": {},
     "output_type": "execute_result"
    }
   ],
   "source": [
    "model.summary()"
   ]
  },
  {
   "cell_type": "code",
   "execution_count": 4,
   "metadata": {},
   "outputs": [],
   "source": [
    "import numpyro\n",
    "import jax\n",
    "\n",
    "numpyro.set_host_device_count(4)"
   ]
  },
  {
   "cell_type": "code",
   "execution_count": 5,
   "metadata": {},
   "outputs": [
    {
     "data": {
      "image/png": "[encoded data removed]",
      "text/plain": [
       "<Figure size 432x288 with 1 Axes>"
      ]
     },
     "metadata": {
      "needs_background": "light"
     },
     "output_type": "display_data"
    }
   ],
   "source": [
    "fig, ax = plt.subplots()\n",
    "ax.plot(np.arange(len(y)), y);"
   ]
  },
  {
   "cell_type": "code",
   "execution_count": 6,
   "metadata": {},
   "outputs": [],
   "source": [
    "def ar1(y):\n",
    "    alpha = numpyro.sample(\n",
    "        'alpha',\n",
    "        numpyro.distributions.TruncatedDistribution(numpyro.distributions.Normal(0, 1), low=-1, high=1),\n",
    "    )\n",
    "    mu = numpyro.sample(\n",
    "        'mu',\n",
    "        numpyro.distributions.Normal(0, 1),\n",
    "    )\n",
    "    \n",
    "    sigma = numpyro.sample(\n",
    "        'sigma',\n",
    "        numpyro.distributions.HalfNormal(1),\n",
    "    )\n",
    "    \n",
    "    def forward_one_step(y_1, next_y):\n",
    "        err = next_y - (alpha*y_1)\n",
    "        return next_y, err\n",
    "\n",
    "    err_0 = y[0] - mu\n",
    "    _, err = jax.lax.scan(forward_one_step, y[0], y[1:])\n",
    "    err = jax.numpy.concatenate([err_0[jax.numpy.newaxis], err])\n",
    "        \n",
    "    numpyro.sample(\n",
    "        'obs',\n",
    "        numpyro.distributions.Normal(0, sigma),\n",
    "        obs=err,\n",
    "    )"
   ]
  },
  {
   "cell_type": "code",
   "execution_count": 7,
   "metadata": {},
   "outputs": [
    {
     "data": {
      "application/vnd.jupyter.widget-view+json": {
       "model_id": "e17b9c922b894381a2747a4b607856f9",
       "version_major": 2,
       "version_minor": 0
      },
      "text/plain": [
       "  0%|          | 0/2000 [00:00<?, ?it/s]"
      ]
     },
     "metadata": {},
     "output_type": "display_data"
    },
    {
     "data": {
      "application/vnd.jupyter.widget-view+json": {
       "model_id": "2466af94e519467daf3f5caf6bdd96ea",
       "version_major": 2,
       "version_minor": 0
      },
      "text/plain": [
       "  0%|          | 0/2000 [00:00<?, ?it/s]"
      ]
     },
     "metadata": {},
     "output_type": "display_data"
    },
    {
     "data": {
      "application/vnd.jupyter.widget-view+json": {
       "model_id": "da217c5ff7a844928dc196dabd3e3c28",
       "version_major": 2,
       "version_minor": 0
      },
      "text/plain": [
       "  0%|          | 0/2000 [00:00<?, ?it/s]"
      ]
     },
     "metadata": {},
     "output_type": "display_data"
    },
    {
     "data": {
      "application/vnd.jupyter.widget-view+json": {
       "model_id": "cc0e1cff0e3440c4bc9d9804eeca263f",
       "version_major": 2,
       "version_minor": 0
      },
      "text/plain": [
       "  0%|          | 0/2000 [00:00<?, ?it/s]"
      ]
     },
     "metadata": {},
     "output_type": "display_data"
    }
   ],
   "source": [
    "sampler = numpyro.infer.NUTS(ar1)\n",
    "mcmc = numpyro.infer.MCMC(sampler, num_samples=1000, num_warmup=1000, num_chains=4)\n",
    "mcmc.run(jax.random.PRNGKey(0), y=y)"
   ]
  },
  {
   "cell_type": "code",
   "execution_count": 8,
   "metadata": {},
   "outputs": [
    {
     "name": "stdout",
     "output_type": "stream",
     "text": [
      "\n",
      "                mean       std    median      5.0%     95.0%     n_eff     r_hat\n",
      "     alpha      0.50      0.05      0.50      0.40      0.58   3726.77      1.00\n",
      "        mu     -0.11      0.70     -0.11     -1.33      0.95   3646.43      1.00\n",
      "     sigma      1.00      0.04      1.00      0.92      1.07   3728.67      1.00\n",
      "\n",
      "Number of divergences: 0\n"
     ]
    }
   ],
   "source": [
    "mcmc.print_summary()"
   ]
  },
  {
   "cell_type": "code",
   "execution_count": 9,
   "metadata": {},
   "outputs": [],
   "source": [
    "steps = 10\n",
    "y_pred = np.ones((4000, len(y)+steps))*np.hstack([y, np.zeros(steps)])"
   ]
  },
  {
   "cell_type": "code",
   "execution_count": 10,
   "metadata": {},
   "outputs": [],
   "source": [
    "trace = mcmc.get_samples()\n",
    "for t in range(len(y), len(y)+steps):\n",
    "    pred = scipy.stats.norm(trace['alpha']*y_pred[:, t-1], trace['sigma']).rvs(len(trace['sigma']))\n",
    "    y_pred[:, t] = pred"
   ]
  },
  {
   "cell_type": "code",
   "execution_count": 11,
   "metadata": {},
   "outputs": [
    {
     "data": {
      "image/png": "[encoded data removed]",
      "text/plain": [
       "<Figure size 432x288 with 1 Axes>"
      ]
     },
     "metadata": {
      "needs_background": "light"
     },
     "output_type": "display_data"
    }
   ],
   "source": [
    "fig, ax = plt.subplots()\n",
    "ax.plot(np.arange(len(y)), y, 'o', color='orange');\n",
    "ax.fill_between(np.arange(len(y), len(y)+steps), *numpyro.diagnostics.hpdi(y_pred[:, -steps:]), alpha=.1, color='blue');"
   ]
  },
  {
   "cell_type": "markdown",
   "metadata": {},
   "source": [
    "## ARIMA(1, 0, 1)"
   ]
  },
  {
   "cell_type": "code",
   "execution_count": 12,
   "metadata": {},
   "outputs": [
    {
     "data": {
      "text/plain": [
       "array([-8.48227902e-04,  5.05502209e-01,  6.80811237e-01,  9.83147853e-05])"
      ]
     },
     "execution_count": 12,
     "metadata": {},
     "output_type": "execute_result"
    }
   ],
   "source": [
    "import numpy as np\n",
    "np.random.seed(12345)\n",
    "arparams = np.array([.4])\n",
    "maparams = np.array([.7])\n",
    "ar = np.r_[1, -arparams] # add zero-lag and negate\n",
    "ma = np.r_[1, maparams] # add zero-lag\n",
    "y = statsmodels.tsa.arima_process.arma_generate_sample(ar, ma, 250, scale=.01)\n",
    "model = statsmodels.tsa.arima.model.ARIMA(y, order=(1, 0, 1)).fit()\n",
    "model.params"
   ]
  },
  {
   "cell_type": "code",
   "execution_count": 13,
   "metadata": {},
   "outputs": [
    {
     "data": {
      "text/html": [
       "<table class=\"simpletable\">\n",
       "<caption>SARIMAX Results</caption>\n",
       "<tr>\n",
       "  <th>Dep. Variable:</th>           <td>y</td>        <th>  No. Observations:  </th>    <td>250</td>   \n",
       "</tr>\n",
       "<tr>\n",
       "  <th>Model:</th>            <td>ARIMA(1, 0, 1)</td>  <th>  Log Likelihood     </th>  <td>797.802</td> \n",
       "</tr>\n",
       "<tr>\n",
       "  <th>Date:</th>            <td>Mon, 02 Aug 2021</td> <th>  AIC                </th> <td>-1587.603</td>\n",
       "</tr>\n",
       "<tr>\n",
       "  <th>Time:</th>                <td>14:13:45</td>     <th>  BIC                </th> <td>-1573.518</td>\n",
       "</tr>\n",
       "<tr>\n",
       "  <th>Sample:</th>                  <td>0</td>        <th>  HQIC               </th> <td>-1581.934</td>\n",
       "</tr>\n",
       "<tr>\n",
       "  <th></th>                      <td> - 250</td>      <th>                     </th>     <td> </td>    \n",
       "</tr>\n",
       "<tr>\n",
       "  <th>Covariance Type:</th>        <td>opg</td>       <th>                     </th>     <td> </td>    \n",
       "</tr>\n",
       "</table>\n",
       "<table class=\"simpletable\">\n",
       "<tr>\n",
       "     <td></td>       <th>coef</th>     <th>std err</th>      <th>z</th>      <th>P>|z|</th>  <th>[0.025</th>    <th>0.975]</th>  \n",
       "</tr>\n",
       "<tr>\n",
       "  <th>const</th>  <td>   -0.0008</td> <td>    0.002</td> <td>   -0.397</td> <td> 0.691</td> <td>   -0.005</td> <td>    0.003</td>\n",
       "</tr>\n",
       "<tr>\n",
       "  <th>ar.L1</th>  <td>    0.5055</td> <td>    0.059</td> <td>    8.506</td> <td> 0.000</td> <td>    0.389</td> <td>    0.622</td>\n",
       "</tr>\n",
       "<tr>\n",
       "  <th>ma.L1</th>  <td>    0.6808</td> <td>    0.052</td> <td>   13.055</td> <td> 0.000</td> <td>    0.579</td> <td>    0.783</td>\n",
       "</tr>\n",
       "<tr>\n",
       "  <th>sigma2</th> <td> 9.831e-05</td> <td> 9.15e-06</td> <td>   10.746</td> <td> 0.000</td> <td> 8.04e-05</td> <td>    0.000</td>\n",
       "</tr>\n",
       "</table>\n",
       "<table class=\"simpletable\">\n",
       "<tr>\n",
       "  <th>Ljung-Box (L1) (Q):</th>     <td>0.01</td> <th>  Jarque-Bera (JB):  </th> <td>0.25</td>\n",
       "</tr>\n",
       "<tr>\n",
       "  <th>Prob(Q):</th>                <td>0.92</td> <th>  Prob(JB):          </th> <td>0.88</td>\n",
       "</tr>\n",
       "<tr>\n",
       "  <th>Heteroskedasticity (H):</th> <td>0.91</td> <th>  Skew:              </th> <td>0.03</td>\n",
       "</tr>\n",
       "<tr>\n",
       "  <th>Prob(H) (two-sided):</th>    <td>0.68</td> <th>  Kurtosis:          </th> <td>2.86</td>\n",
       "</tr>\n",
       "</table><br/><br/>Warnings:<br/>[1] Covariance matrix calculated using the outer product of gradients (complex-step)."
      ],
      "text/plain": [
       "<class 'statsmodels.iolib.summary.Summary'>\n",
       "\"\"\"\n",
       "                               SARIMAX Results                                \n",
       "==============================================================================\n",
       "Dep. Variable:                      y   No. Observations:                  250\n",
       "Model:                 ARIMA(1, 0, 1)   Log Likelihood                 797.802\n",
       "Date:                Mon, 02 Aug 2021   AIC                          -1587.603\n",
       "Time:                        14:13:45   BIC                          -1573.518\n",
       "Sample:                             0   HQIC                         -1581.934\n",
       "                                - 250                                         \n",
       "Covariance Type:                  opg                                         \n",
       "==============================================================================\n",
       "                 coef    std err          z      P>|z|      [0.025      0.975]\n",
       "------------------------------------------------------------------------------\n",
       "const         -0.0008      0.002     -0.397      0.691      -0.005       0.003\n",
       "ar.L1          0.5055      0.059      8.506      0.000       0.389       0.622\n",
       "ma.L1          0.6808      0.052     13.055      0.000       0.579       0.783\n",
       "sigma2      9.831e-05   9.15e-06     10.746      0.000    8.04e-05       0.000\n",
       "===================================================================================\n",
       "Ljung-Box (L1) (Q):                   0.01   Jarque-Bera (JB):                 0.25\n",
       "Prob(Q):                              0.92   Prob(JB):                         0.88\n",
       "Heteroskedasticity (H):               0.91   Skew:                             0.03\n",
       "Prob(H) (two-sided):                  0.68   Kurtosis:                         2.86\n",
       "===================================================================================\n",
       "\n",
       "Warnings:\n",
       "[1] Covariance matrix calculated using the outer product of gradients (complex-step).\n",
       "\"\"\""
      ]
     },
     "execution_count": 13,
     "metadata": {},
     "output_type": "execute_result"
    }
   ],
   "source": [
    "model.summary()"
   ]
  },
  {
   "cell_type": "code",
   "execution_count": 14,
   "metadata": {},
   "outputs": [],
   "source": [
    "def arma(y):\n",
    "    alpha = numpyro.sample(\n",
    "        'alpha',\n",
    "        numpyro.distributions.TruncatedDistribution(numpyro.distributions.Normal(0, 1), low=-1, high=1),\n",
    "    )\n",
    "    phi = numpyro.sample(\n",
    "        'phi',\n",
    "        numpyro.distributions.TruncatedDistribution(numpyro.distributions.Normal(0, 1), low=-1, high=1),\n",
    "    )\n",
    "    mu = numpyro.sample(\n",
    "        'mu',\n",
    "        numpyro.distributions.Normal(0, 1),\n",
    "    )\n",
    "    \n",
    "    sigma = numpyro.sample(\n",
    "        'sigma',\n",
    "        numpyro.distributions.HalfNormal(1),\n",
    "    )\n",
    "    \n",
    "    def transition_fn(carry, next_y):\n",
    "        last_err, last_y = carry\n",
    "        err = next_y - (alpha * last_y + phi * last_err)\n",
    "        return (err, next_y), err\n",
    "\n",
    "    err_0 = y[0] - (mu + phi*mu)\n",
    "    _, err = jax.lax.scan(transition_fn, (err_0, y[0]), y[1:])\n",
    "    err = jax.numpy.concatenate([err_0[jax.numpy.newaxis], err])\n",
    "    numpyro.sample(\"err\", numpyro.distributions.Normal(0, sigma), obs=err)"
   ]
  },
  {
   "cell_type": "code",
   "execution_count": 15,
   "metadata": {},
   "outputs": [
    {
     "data": {
      "application/vnd.jupyter.widget-view+json": {
       "model_id": "beddffa1cd3344ec9c3c55faf5ad93da",
       "version_major": 2,
       "version_minor": 0
      },
      "text/plain": [
       "  0%|          | 0/2000 [00:00<?, ?it/s]"
      ]
     },
     "metadata": {},
     "output_type": "display_data"
    },
    {
     "data": {
      "application/vnd.jupyter.widget-view+json": {
       "model_id": "26a0d1b5314d4c1aae86e63a74880606",
       "version_major": 2,
       "version_minor": 0
      },
      "text/plain": [
       "  0%|          | 0/2000 [00:00<?, ?it/s]"
      ]
     },
     "metadata": {},
     "output_type": "display_data"
    },
    {
     "data": {
      "application/vnd.jupyter.widget-view+json": {
       "model_id": "6ecd6a73543246d584f9e7bf04d52da1",
       "version_major": 2,
       "version_minor": 0
      },
      "text/plain": [
       "  0%|          | 0/2000 [00:00<?, ?it/s]"
      ]
     },
     "metadata": {},
     "output_type": "display_data"
    },
    {
     "data": {
      "application/vnd.jupyter.widget-view+json": {
       "model_id": "aea636d4bcaa4b2f97f22ba4f5aaa00c",
       "version_major": 2,
       "version_minor": 0
      },
      "text/plain": [
       "  0%|          | 0/2000 [00:00<?, ?it/s]"
      ]
     },
     "metadata": {},
     "output_type": "display_data"
    }
   ],
   "source": [
    "sampler = numpyro.infer.NUTS(arma)\n",
    "mcmc = numpyro.infer.MCMC(sampler, num_samples=1000, num_warmup=1000, num_chains=4)\n",
    "mcmc.run(jax.random.PRNGKey(0), y=y)"
   ]
  },
  {
   "cell_type": "code",
   "execution_count": 16,
   "metadata": {},
   "outputs": [
    {
     "name": "stdout",
     "output_type": "stream",
     "text": [
      "\n",
      "                mean       std    median      5.0%     95.0%     n_eff     r_hat\n",
      "     alpha      0.51      0.06      0.52      0.41      0.62   3094.09      1.00\n",
      "        mu     -0.00      0.00     -0.00     -0.01      0.01   4082.69      1.00\n",
      "       phi      0.67      0.06      0.67      0.57      0.76   3163.44      1.00\n",
      "     sigma      0.01      0.00      0.01      0.01      0.01   3978.25      1.00\n",
      "\n",
      "Number of divergences: 0\n"
     ]
    }
   ],
   "source": [
    "mcmc.print_summary()"
   ]
  },
  {
   "cell_type": "code",
   "execution_count": 17,
   "metadata": {},
   "outputs": [],
   "source": [
    "steps=10\n",
    "y_pred = np.ones((4000, len(y)+steps))*np.hstack([y, np.zeros(steps)])"
   ]
  },
  {
   "cell_type": "code",
   "execution_count": 18,
   "metadata": {},
   "outputs": [],
   "source": [
    "steps = 10\n",
    "trace = mcmc.get_samples()\n",
    "for t in range(len(y), len(y)+steps):\n",
    "    # mu = alpha*y_1 + phi*err_1\n",
    "    err_1 = y_pred[:, t-1] - (trace['alpha'])\n",
    "    pred = scipy.stats.norm(\n",
    "        (\n",
    "            trace['alpha']*y_pred[:, t-1]\n",
    "            + trace['phi']*(y_pred[:, t-1]-np.median(y_pred[:, t-1]))\n",
    "        ),\n",
    "        trace['sigma']\n",
    "    ).rvs(len(trace['sigma']))\n",
    "    y_pred[:, t] = pred"
   ]
  },
  {
   "cell_type": "code",
   "execution_count": 19,
   "metadata": {},
   "outputs": [
    {
     "data": {
      "image/png": "[encoded data removed]",
      "text/plain": [
       "<Figure size 432x288 with 1 Axes>"
      ]
     },
     "metadata": {
      "needs_background": "light"
     },
     "output_type": "display_data"
    }
   ],
   "source": [
    "fig, ax = plt.subplots()\n",
    "ax.plot(np.arange(len(y)), y, 'o', color='orange');\n",
    "ax.fill_between(np.arange(len(y), len(y)+steps), *numpyro.diagnostics.hpdi(y_pred[:, -steps:]), alpha=.1, color='blue');\n",
    "ax.plot(np.arange(len(y), len(y)+steps), y_pred[:, -steps:].mean(axis=0), color='blue');"
   ]
  },
  {
   "cell_type": "markdown",
   "metadata": {},
   "source": [
    "## seasonal arima\n",
    "\n",
    "Don't know how to generate data, so...let's use the air passengers dataset?"
   ]
  },
  {
   "cell_type": "code",
   "execution_count": 20,
   "metadata": {},
   "outputs": [],
   "source": [
    "import pandas as pd\n",
    "df = pd.read_csv('AirPassengers.csv')\n",
    "step = 10\n",
    "y = df['#Passengers'].iloc[:-step].to_numpy()"
   ]
  },
  {
   "cell_type": "code",
   "execution_count": 21,
   "metadata": {},
   "outputs": [
    {
     "data": {
      "image/png": "[encoded data removed]",
      "text/plain": [
       "<Figure size 432x288 with 1 Axes>"
      ]
     },
     "metadata": {
      "needs_background": "light"
     },
     "output_type": "display_data"
    }
   ],
   "source": [
    "import matplotlib.pyplot as plt\n",
    "\n",
    "\n",
    "fig, ax = plt.subplots()\n",
    "ax.plot(np.arange(len(y)-1), y[1:]-y[:-1]);"
   ]
  },
  {
   "cell_type": "code",
   "execution_count": 22,
   "metadata": {},
   "outputs": [],
   "source": [
    "from statsmodels.tsa.stattools import pacf, acf"
   ]
  },
  {
   "cell_type": "code",
   "execution_count": 23,
   "metadata": {},
   "outputs": [
    {
     "name": "stderr",
     "output_type": "stream",
     "text": [
      "/Users/marcogorelli/opt/miniconda3/envs/good-bayesian/lib/python3.9/site-packages/statsmodels/tsa/stattools.py:657: FutureWarning: The default number of lags is changing from 40 tomin(int(10 * np.log10(nobs)), nobs - 1) after 0.12is released. Set the number of lags to an integer to  silence this warning.\n",
      "  warnings.warn(\n",
      "/Users/marcogorelli/opt/miniconda3/envs/good-bayesian/lib/python3.9/site-packages/statsmodels/tsa/stattools.py:667: FutureWarning: fft=True will become the default after the release of the 0.12 release of statsmodels. To suppress this warning, explicitly set fft=False.\n",
      "  warnings.warn(\n",
      "/Users/marcogorelli/opt/miniconda3/envs/good-bayesian/lib/python3.9/site-packages/statsmodels/tsa/stattools.py:1024: FutureWarning: The default number of lags is changing from 40 tomin(int(10 * np.log10(nobs)), nobs // 2 - 1) after 0.12is released. Set the number of lags to an integer to  silence this warning.\n",
      "  warnings.warn(\n",
      "/Users/marcogorelli/opt/miniconda3/envs/good-bayesian/lib/python3.9/site-packages/statsmodels/regression/linear_model.py:1434: RuntimeWarning: invalid value encountered in sqrt\n",
      "  return rho, np.sqrt(sigmasq)\n"
     ]
    },
    {
     "data": {
      "text/plain": [
       "[<matplotlib.lines.Line2D at 0x13135c8b0>]"
      ]
     },
     "execution_count": 23,
     "metadata": {},
     "output_type": "execute_result"
    },
    {
     "data": {
      "image/png": "[encoded data removed]",
      "text/plain": [
       "<Figure size 432x288 with 2 Axes>"
      ]
     },
     "metadata": {
      "needs_background": "light"
     },
     "output_type": "display_data"
    }
   ],
   "source": [
    "y_diff = y[1:] - y[:-1]\n",
    "acf_data = acf(y_diff)\n",
    "pacf_data = pacf(y_diff)\n",
    "\n",
    "fig, ax = plt.subplots(nrows=2)\n",
    "ax[0].plot(np.arange(len(acf_data)), acf_data)\n",
    "ax[1].plot(np.arange(len(pacf_data)), pacf_data)"
   ]
  },
  {
   "cell_type": "code",
   "execution_count": 24,
   "metadata": {},
   "outputs": [
    {
     "data": {
      "text/plain": [
       "array([ 1.        ,  0.28747677, -0.22511158, -0.16824778, -0.23208721,\n",
       "        0.06360802, -0.23699183, -0.12397987, -0.53151111, -0.18521317,\n",
       "       -0.74616545, -0.25489136,  0.58943184, -0.12179267, -0.27099387,\n",
       "        0.35627247, -0.33723679, -0.44029923,  0.32638584,  0.20754998,\n",
       "       -0.76556305, -0.1919763 ,  2.4784282 ,  0.44278704,  2.47387352,\n",
       "       -0.69354484, -0.72477112,  0.35705198,  0.17100683, -0.36313868,\n",
       "       -0.03173108,  0.32117191, -0.35820416, -0.43205018,  0.55909469,\n",
       "       -0.11920355, -0.83464379,  2.63836145,  0.54117831,  2.42078791,\n",
       "       -0.15338543])"
      ]
     },
     "execution_count": 24,
     "metadata": {},
     "output_type": "execute_result"
    }
   ],
   "source": [
    "pacf_data"
   ]
  },
  {
   "cell_type": "code",
   "execution_count": 25,
   "metadata": {},
   "outputs": [],
   "source": [
    "from statsmodels.tsa.statespace.sarimax import SARIMAX"
   ]
  },
  {
   "cell_type": "code",
   "execution_count": 26,
   "metadata": {},
   "outputs": [],
   "source": [
    "def scale(feat):\n",
    "    return (feat - np.mean(feat))/np.std(feat)"
   ]
  },
  {
   "cell_type": "code",
   "execution_count": 27,
   "metadata": {},
   "outputs": [
    {
     "name": "stderr",
     "output_type": "stream",
     "text": [
      "/Users/marcogorelli/opt/miniconda3/envs/good-bayesian/lib/python3.9/site-packages/statsmodels/tsa/statespace/sarimax.py:997: UserWarning: Non-stationary starting seasonal autoregressive Using zeros as starting parameters.\n",
      "  warn('Non-stationary starting seasonal autoregressive'\n"
     ]
    },
    {
     "data": {
      "text/html": [
       "<table class=\"simpletable\">\n",
       "<caption>SARIMAX Results</caption>\n",
       "<tr>\n",
       "  <th>Dep. Variable:</th>                  <td>y</td>                <th>  No. Observations:  </th>    <td>134</td>  \n",
       "</tr>\n",
       "<tr>\n",
       "  <th>Model:</th>           <td>SARIMAX(1, 1, 1)x(1, 0, [], 12)</td> <th>  Log Likelihood     </th> <td>-514.544</td>\n",
       "</tr>\n",
       "<tr>\n",
       "  <th>Date:</th>                   <td>Mon, 02 Aug 2021</td>         <th>  AIC                </th> <td>1037.088</td>\n",
       "</tr>\n",
       "<tr>\n",
       "  <th>Time:</th>                       <td>14:13:52</td>             <th>  BIC                </th> <td>1048.650</td>\n",
       "</tr>\n",
       "<tr>\n",
       "  <th>Sample:</th>                         <td>0</td>                <th>  HQIC               </th> <td>1041.786</td>\n",
       "</tr>\n",
       "<tr>\n",
       "  <th></th>                             <td> - 134</td>              <th>                     </th>     <td> </td>   \n",
       "</tr>\n",
       "<tr>\n",
       "  <th>Covariance Type:</th>               <td>opg</td>               <th>                     </th>     <td> </td>   \n",
       "</tr>\n",
       "</table>\n",
       "<table class=\"simpletable\">\n",
       "<tr>\n",
       "      <td></td>        <th>coef</th>     <th>std err</th>      <th>z</th>      <th>P>|z|</th>  <th>[0.025</th>    <th>0.975]</th>  \n",
       "</tr>\n",
       "<tr>\n",
       "  <th>ar.L1</th>    <td>   -0.5514</td> <td>    0.332</td> <td>   -1.661</td> <td> 0.097</td> <td>   -1.202</td> <td>    0.099</td>\n",
       "</tr>\n",
       "<tr>\n",
       "  <th>ma.L1</th>    <td>    0.3747</td> <td>    0.362</td> <td>    1.035</td> <td> 0.301</td> <td>   -0.335</td> <td>    1.084</td>\n",
       "</tr>\n",
       "<tr>\n",
       "  <th>ar.S.L12</th> <td>    0.9607</td> <td>    0.021</td> <td>   46.235</td> <td> 0.000</td> <td>    0.920</td> <td>    1.001</td>\n",
       "</tr>\n",
       "<tr>\n",
       "  <th>sigma2</th>   <td>  106.4729</td> <td>   13.289</td> <td>    8.012</td> <td> 0.000</td> <td>   80.426</td> <td>  132.520</td>\n",
       "</tr>\n",
       "</table>\n",
       "<table class=\"simpletable\">\n",
       "<tr>\n",
       "  <th>Ljung-Box (L1) (Q):</th>     <td>0.00</td> <th>  Jarque-Bera (JB):  </th> <td>4.19</td> \n",
       "</tr>\n",
       "<tr>\n",
       "  <th>Prob(Q):</th>                <td>0.99</td> <th>  Prob(JB):          </th> <td>0.12</td> \n",
       "</tr>\n",
       "<tr>\n",
       "  <th>Heteroskedasticity (H):</th> <td>2.30</td> <th>  Skew:              </th> <td>-0.03</td>\n",
       "</tr>\n",
       "<tr>\n",
       "  <th>Prob(H) (two-sided):</th>    <td>0.01</td> <th>  Kurtosis:          </th> <td>3.87</td> \n",
       "</tr>\n",
       "</table><br/><br/>Warnings:<br/>[1] Covariance matrix calculated using the outer product of gradients (complex-step)."
      ],
      "text/plain": [
       "<class 'statsmodels.iolib.summary.Summary'>\n",
       "\"\"\"\n",
       "                                      SARIMAX Results                                      \n",
       "===========================================================================================\n",
       "Dep. Variable:                                   y   No. Observations:                  134\n",
       "Model:             SARIMAX(1, 1, 1)x(1, 0, [], 12)   Log Likelihood                -514.544\n",
       "Date:                             Mon, 02 Aug 2021   AIC                           1037.088\n",
       "Time:                                     14:13:52   BIC                           1048.650\n",
       "Sample:                                          0   HQIC                          1041.786\n",
       "                                             - 134                                         \n",
       "Covariance Type:                               opg                                         \n",
       "==============================================================================\n",
       "                 coef    std err          z      P>|z|      [0.025      0.975]\n",
       "------------------------------------------------------------------------------\n",
       "ar.L1         -0.5514      0.332     -1.661      0.097      -1.202       0.099\n",
       "ma.L1          0.3747      0.362      1.035      0.301      -0.335       1.084\n",
       "ar.S.L12       0.9607      0.021     46.235      0.000       0.920       1.001\n",
       "sigma2       106.4729     13.289      8.012      0.000      80.426     132.520\n",
       "===================================================================================\n",
       "Ljung-Box (L1) (Q):                   0.00   Jarque-Bera (JB):                 4.19\n",
       "Prob(Q):                              0.99   Prob(JB):                         0.12\n",
       "Heteroskedasticity (H):               2.30   Skew:                            -0.03\n",
       "Prob(H) (two-sided):                  0.01   Kurtosis:                         3.87\n",
       "===================================================================================\n",
       "\n",
       "Warnings:\n",
       "[1] Covariance matrix calculated using the outer product of gradients (complex-step).\n",
       "\"\"\""
      ]
     },
     "execution_count": 27,
     "metadata": {},
     "output_type": "execute_result"
    }
   ],
   "source": [
    "mod = SARIMAX(y, order=(1, 1, 1), seasonal_order=(1, 0, 0, 12))\n",
    "fit = mod.fit()\n",
    "fit.summary()"
   ]
  },
  {
   "cell_type": "code",
   "execution_count": 28,
   "metadata": {},
   "outputs": [
    {
     "data": {
      "text/plain": [
       "[<matplotlib.lines.Line2D at 0x131435670>]"
      ]
     },
     "execution_count": 28,
     "metadata": {},
     "output_type": "execute_result"
    },
    {
     "data": {
      "image/png": "[encoded data removed]",
      "text/plain": [
       "<Figure size 432x288 with 1 Axes>"
      ]
     },
     "metadata": {
      "needs_background": "light"
     },
     "output_type": "display_data"
    }
   ],
   "source": [
    "fig, ax = plt.subplots()\n",
    "ax.plot(np.arange(len(df)), df['#Passengers'], color='orange')\n",
    "ax.plot(np.arange(len(df)-step, len(df)), fit.forecast(steps=step), color='blue')"
   ]
  },
  {
   "cell_type": "code",
   "execution_count": 29,
   "metadata": {},
   "outputs": [],
   "source": [
    "def sarima(y):\n",
    "    alpha = numpyro.sample(\n",
    "        'alpha',\n",
    "        numpyro.distributions.TruncatedDistribution(numpyro.distributions.Normal(0, 1), low=-1, high=1),\n",
    "    )\n",
    "    phi = numpyro.sample(\n",
    "        'phi',\n",
    "        numpyro.distributions.TruncatedDistribution(numpyro.distributions.Normal(0, 1), low=-1, high=1),\n",
    "    )\n",
    "    mu = numpyro.sample(\n",
    "        'mu',\n",
    "        numpyro.distributions.Normal(0, 1),\n",
    "    )\n",
    "    alpha_12 = numpyro.sample(\n",
    "        'alpha_12',\n",
    "        numpyro.distributions.TruncatedDistribution(numpyro.distributions.Normal(0, 1), low=-1, high=1),\n",
    "    )\n",
    "    \n",
    "    sigma = numpyro.sample(\n",
    "        'sigma',\n",
    "        numpyro.distributions.HalfNormal(1),\n",
    "    )\n",
    "    \n",
    "    def transition_fn(carry, next_y):\n",
    "        y_1, y_2, y_3, y_4, y_5, y_6, y_7, y_8, y_9, y_10, y_11, y_12, y_13, err = carry\n",
    "        nu = alpha*y_1 + alpha_12*y_12 - alpha*alpha_12*y_13 + phi*err\n",
    "        err = next_y - nu\n",
    "        return (next_y, y_1, y_2, y_3, y_4, y_5, y_6, y_7, y_8, y_9, y_10, y_11, y_12, err), err\n",
    "    \n",
    "    err_0 = y[12] - (mu + phi*mu)\n",
    "    _, err = jax.lax.scan(\n",
    "        transition_fn,\n",
    "        (y[12], y[11], y[10], y[9], y[8], y[7], y[6], y[5], y[4], y[3], y[2], y[1], y[0], err_0),\n",
    "        y[13:],\n",
    "    )\n",
    "    err = jax.numpy.concatenate([err_0[jax.numpy.newaxis], err])\n",
    "    \n",
    "    numpyro.sample(\n",
    "        'obs',\n",
    "        numpyro.distributions.Normal(0, sigma),\n",
    "        obs=err,\n",
    "    )"
   ]
  },
  {
   "cell_type": "code",
   "execution_count": 30,
   "metadata": {},
   "outputs": [
    {
     "data": {
      "application/vnd.jupyter.widget-view+json": {
       "model_id": "fa7a6fbfb70e440fb1eff9230158574d",
       "version_major": 2,
       "version_minor": 0
      },
      "text/plain": [
       "  0%|          | 0/2000 [00:00<?, ?it/s]"
      ]
     },
     "metadata": {},
     "output_type": "display_data"
    },
    {
     "data": {
      "application/vnd.jupyter.widget-view+json": {
       "model_id": "d877d06433b4403a950f986620c3a668",
       "version_major": 2,
       "version_minor": 0
      },
      "text/plain": [
       "  0%|          | 0/2000 [00:00<?, ?it/s]"
      ]
     },
     "metadata": {},
     "output_type": "display_data"
    },
    {
     "data": {
      "application/vnd.jupyter.widget-view+json": {
       "model_id": "c33a1086eae54890acece8fba18298bb",
       "version_major": 2,
       "version_minor": 0
      },
      "text/plain": [
       "  0%|          | 0/2000 [00:00<?, ?it/s]"
      ]
     },
     "metadata": {},
     "output_type": "display_data"
    },
    {
     "data": {
      "application/vnd.jupyter.widget-view+json": {
       "model_id": "cfd07f1ddb17496987e8e25e011dd60b",
       "version_major": 2,
       "version_minor": 0
      },
      "text/plain": [
       "  0%|          | 0/2000 [00:00<?, ?it/s]"
      ]
     },
     "metadata": {},
     "output_type": "display_data"
    }
   ],
   "source": [
    "sampler = numpyro.infer.NUTS(sarima)\n",
    "mcmc = numpyro.infer.MCMC(sampler, num_samples=1000, num_warmup=1000, num_chains=4)\n",
    "y_scaled = scale(y_diff)\n",
    "mcmc.run(jax.random.PRNGKey(0), y=y_scaled)"
   ]
  },
  {
   "cell_type": "code",
   "execution_count": 31,
   "metadata": {},
   "outputs": [
    {
     "name": "stdout",
     "output_type": "stream",
     "text": [
      "\n",
      "                mean       std    median      5.0%     95.0%     n_eff     r_hat\n",
      "     alpha      0.00      0.42      0.00     -0.64      0.69   1141.72      1.00\n",
      "  alpha_12      0.99      0.01      0.99      0.98      1.00   2771.69      1.00\n",
      "        mu      0.37      0.50      0.30     -0.40      1.13   1527.71      1.00\n",
      "       phi     -0.22      0.41     -0.23     -0.88      0.40   1148.39      1.00\n",
      "     sigma      0.34      0.02      0.34      0.31      0.38   2204.85      1.00\n",
      "\n",
      "Number of divergences: 1\n"
     ]
    }
   ],
   "source": [
    "mcmc.print_summary()"
   ]
  },
  {
   "cell_type": "code",
   "execution_count": 32,
   "metadata": {},
   "outputs": [],
   "source": [
    "y_pred = np.ones((4000, len(y_scaled)+steps))*np.hstack([y_scaled, np.zeros(steps)])"
   ]
  },
  {
   "cell_type": "code",
   "execution_count": 33,
   "metadata": {},
   "outputs": [],
   "source": [
    "steps = len(df)-len(y)\n",
    "trace = mcmc.get_samples()\n",
    "for t in range(len(y_scaled), len(y_scaled)+steps):\n",
    "    err_1 = y_pred[:, t-1] - (trace['alpha'])\n",
    "    pred = scipy.stats.norm(\n",
    "        (\n",
    "            trace['alpha']*y_pred[:, t-1]\n",
    "            + trace['alpha_12']*y_pred[:, t-12]\n",
    "            - trace['alpha_12']*trace['alpha']*y_pred[:, t-13]\n",
    "            + trace['phi']*(y_pred[:, t-1]-y_pred[:, t-1].mean())\n",
    "        ),\n",
    "        trace['sigma']).rvs(len(trace['sigma']),\n",
    "    )\n",
    "    y_pred[:, t] = pred"
   ]
  },
  {
   "cell_type": "code",
   "execution_count": 34,
   "metadata": {},
   "outputs": [
    {
     "data": {
      "image/png": "[encoded data removed]",
      "text/plain": [
       "<Figure size 432x288 with 1 Axes>"
      ]
     },
     "metadata": {
      "needs_background": "light"
     },
     "output_type": "display_data"
    }
   ],
   "source": [
    "fig, ax = plt.subplots()\n",
    "ax.plot(np.arange(len(y_scaled)), y_scaled, color='orange');\n",
    "ax.fill_between(np.arange(len(y_scaled), len(y_scaled)+steps), *numpyro.diagnostics.hpdi(y_pred[:, -steps:]), alpha=.1, color='blue');\n",
    "ax.plot(np.arange(len(y_scaled), len(y_scaled)+steps), y_pred[:, -steps:].mean(axis=0), color='blue');"
   ]
  },
  {
   "cell_type": "code",
   "execution_count": 35,
   "metadata": {},
   "outputs": [],
   "source": [
    "y_pred_unscaled = y_pred*np.std(y_diff)+np.mean(y_diff)"
   ]
  },
  {
   "cell_type": "code",
   "execution_count": 36,
   "metadata": {},
   "outputs": [
    {
     "data": {
      "text/plain": [
       "(4000, 144)"
      ]
     },
     "execution_count": 36,
     "metadata": {},
     "output_type": "execute_result"
    }
   ],
   "source": [
    "restored = [np.ones(4000)*y[0]]\n",
    "for i in range(y_pred_unscaled.shape[1]):\n",
    "    restored.append(restored[-1]+y_pred_unscaled[:, i])\n",
    "restored = np.array(restored).T\n",
    "restored.shape"
   ]
  },
  {
   "cell_type": "code",
   "execution_count": 37,
   "metadata": {},
   "outputs": [
    {
     "data": {
      "image/png": "[encoded data removed]",
      "text/plain": [
       "<Figure size 432x288 with 1 Axes>"
      ]
     },
     "metadata": {
      "needs_background": "light"
     },
     "output_type": "display_data"
    }
   ],
   "source": [
    "fig, ax = plt.subplots()\n",
    "ax.fill_between(np.arange(len(y), len(y)+steps), *numpyro.diagnostics.hpdi(restored[:, -steps:]), alpha=.1, color='blue');\n",
    "ax.plot(np.arange(len(y), len(y)+steps), restored[:, -steps:].mean(axis=0), color='blue');\n",
    "ax.plot(np.arange(len(df)), df['#Passengers'], color='orange');"
   ]
  },
  {
   "cell_type": "code",
   "execution_count": 38,
   "metadata": {},
   "outputs": [
    {
     "data": {
      "image/png": "[encoded data removed]",
      "text/plain": [
       "<Figure size 432x288 with 1 Axes>"
      ]
     },
     "metadata": {
      "needs_background": "light"
     },
     "output_type": "display_data"
    }
   ],
   "source": [
    "fig, ax = plt.subplots()\n",
    "ax.fill_between(np.arange(len(y), len(y)+steps), *numpyro.diagnostics.hpdi(restored[:, -steps:]), alpha=.1, color='blue');\n",
    "ax.plot(np.arange(len(y), len(y)+steps), restored[:, -steps:].mean(axis=0), color='blue');\n",
    "ax.plot(np.arange(len(df)), df['#Passengers'], color='orange');\n",
    "ax.set_xlim([100, len(df)]);"
   ]
  }
 ],
 "metadata": {
  "kernelspec": {
   "display_name": "good-bayesian",
   "language": "python",
   "name": "good-bayesian"
  },
  "language_info": {
   "codemirror_mode": {
    "name": "ipython",
    "version": 3
   },
   "file_extension": ".py",
   "mimetype": "text/x-python",
   "name": "python",
   "nbconvert_exporter": "python",
   "pygments_lexer": "ipython3",
   "version": "3.9.4"
  }
 },
 "nbformat": 4,
 "nbformat_minor": 4
}
