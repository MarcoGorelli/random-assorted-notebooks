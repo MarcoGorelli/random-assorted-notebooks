{
 "cells": [
  {
   "cell_type": "code",
   "execution_count": 124,
   "metadata": {},
   "outputs": [],
   "source": [
    "import statsmodels\n",
    "import statsmodels.tsa.arima.model\n",
    "import scipy"
   ]
  },
  {
   "cell_type": "markdown",
   "metadata": {},
   "source": [
    "## AR(1)"
   ]
  },
  {
   "cell_type": "code",
   "execution_count": 82,
   "metadata": {},
   "outputs": [
    {
     "data": {
      "text/plain": [
       "array([-0.04989985,  0.49616834,  0.98459052])"
      ]
     },
     "execution_count": 82,
     "metadata": {},
     "output_type": "execute_result"
    }
   ],
   "source": [
    "import numpy as np\n",
    "np.random.seed(12345)\n",
    "arparams = np.array([.4])\n",
    "maparams = np.array([])\n",
    "ar = np.r_[1, -arparams] # add zero-lag and negate\n",
    "ma = np.r_[1, maparams] # add zero-lag\n",
    "y = statsmodels.tsa.arima_process.arma_generate_sample(ar, ma, 250)\n",
    "model = statsmodels.tsa.arima.model.ARIMA(y, order=(1, 0, 0)).fit()\n",
    "model.params"
   ]
  },
  {
   "cell_type": "code",
   "execution_count": 83,
   "metadata": {},
   "outputs": [
    {
     "data": {
      "text/html": [
       "<table class=\"simpletable\">\n",
       "<caption>SARIMAX Results</caption>\n",
       "<tr>\n",
       "  <th>Dep. Variable:</th>           <td>y</td>        <th>  No. Observations:  </th>    <td>250</td>  \n",
       "</tr>\n",
       "<tr>\n",
       "  <th>Model:</th>            <td>ARIMA(1, 0, 0)</td>  <th>  Log Likelihood     </th> <td>-352.937</td>\n",
       "</tr>\n",
       "<tr>\n",
       "  <th>Date:</th>            <td>Sun, 01 Aug 2021</td> <th>  AIC                </th>  <td>711.875</td>\n",
       "</tr>\n",
       "<tr>\n",
       "  <th>Time:</th>                <td>13:47:01</td>     <th>  BIC                </th>  <td>722.439</td>\n",
       "</tr>\n",
       "<tr>\n",
       "  <th>Sample:</th>                  <td>0</td>        <th>  HQIC               </th>  <td>716.127</td>\n",
       "</tr>\n",
       "<tr>\n",
       "  <th></th>                      <td> - 250</td>      <th>                     </th>     <td> </td>   \n",
       "</tr>\n",
       "<tr>\n",
       "  <th>Covariance Type:</th>        <td>opg</td>       <th>                     </th>     <td> </td>   \n",
       "</tr>\n",
       "</table>\n",
       "<table class=\"simpletable\">\n",
       "<tr>\n",
       "     <td></td>       <th>coef</th>     <th>std err</th>      <th>z</th>      <th>P>|z|</th>  <th>[0.025</th>    <th>0.975]</th>  \n",
       "</tr>\n",
       "<tr>\n",
       "  <th>const</th>  <td>   -0.0499</td> <td>    0.125</td> <td>   -0.400</td> <td> 0.689</td> <td>   -0.294</td> <td>    0.195</td>\n",
       "</tr>\n",
       "<tr>\n",
       "  <th>ar.L1</th>  <td>    0.4962</td> <td>    0.055</td> <td>    9.056</td> <td> 0.000</td> <td>    0.389</td> <td>    0.604</td>\n",
       "</tr>\n",
       "<tr>\n",
       "  <th>sigma2</th> <td>    0.9846</td> <td>    0.092</td> <td>   10.712</td> <td> 0.000</td> <td>    0.804</td> <td>    1.165</td>\n",
       "</tr>\n",
       "</table>\n",
       "<table class=\"simpletable\">\n",
       "<tr>\n",
       "  <th>Ljung-Box (L1) (Q):</th>     <td>0.00</td> <th>  Jarque-Bera (JB):  </th> <td>0.29</td>\n",
       "</tr>\n",
       "<tr>\n",
       "  <th>Prob(Q):</th>                <td>0.96</td> <th>  Prob(JB):          </th> <td>0.87</td>\n",
       "</tr>\n",
       "<tr>\n",
       "  <th>Heteroskedasticity (H):</th> <td>0.91</td> <th>  Skew:              </th> <td>0.04</td>\n",
       "</tr>\n",
       "<tr>\n",
       "  <th>Prob(H) (two-sided):</th>    <td>0.67</td> <th>  Kurtosis:          </th> <td>2.85</td>\n",
       "</tr>\n",
       "</table><br/><br/>Warnings:<br/>[1] Covariance matrix calculated using the outer product of gradients (complex-step)."
      ],
      "text/plain": [
       "<class 'statsmodels.iolib.summary.Summary'>\n",
       "\"\"\"\n",
       "                               SARIMAX Results                                \n",
       "==============================================================================\n",
       "Dep. Variable:                      y   No. Observations:                  250\n",
       "Model:                 ARIMA(1, 0, 0)   Log Likelihood                -352.937\n",
       "Date:                Sun, 01 Aug 2021   AIC                            711.875\n",
       "Time:                        13:47:01   BIC                            722.439\n",
       "Sample:                             0   HQIC                           716.127\n",
       "                                - 250                                         \n",
       "Covariance Type:                  opg                                         \n",
       "==============================================================================\n",
       "                 coef    std err          z      P>|z|      [0.025      0.975]\n",
       "------------------------------------------------------------------------------\n",
       "const         -0.0499      0.125     -0.400      0.689      -0.294       0.195\n",
       "ar.L1          0.4962      0.055      9.056      0.000       0.389       0.604\n",
       "sigma2         0.9846      0.092     10.712      0.000       0.804       1.165\n",
       "===================================================================================\n",
       "Ljung-Box (L1) (Q):                   0.00   Jarque-Bera (JB):                 0.29\n",
       "Prob(Q):                              0.96   Prob(JB):                         0.87\n",
       "Heteroskedasticity (H):               0.91   Skew:                             0.04\n",
       "Prob(H) (two-sided):                  0.67   Kurtosis:                         2.85\n",
       "===================================================================================\n",
       "\n",
       "Warnings:\n",
       "[1] Covariance matrix calculated using the outer product of gradients (complex-step).\n",
       "\"\"\""
      ]
     },
     "execution_count": 83,
     "metadata": {},
     "output_type": "execute_result"
    }
   ],
   "source": [
    "model.summary()"
   ]
  },
  {
   "cell_type": "code",
   "execution_count": 84,
   "metadata": {},
   "outputs": [],
   "source": [
    "import numpyro\n",
    "import jax\n",
    "\n",
    "numpyro.set_host_device_count(4)"
   ]
  },
  {
   "cell_type": "code",
   "execution_count": 85,
   "metadata": {},
   "outputs": [
    {
     "data": {
      "image/png": "[encoded data removed]",
      "text/plain": [
       "<Figure size 432x288 with 1 Axes>"
      ]
     },
     "metadata": {
      "needs_background": "light"
     },
     "output_type": "display_data"
    }
   ],
   "source": [
    "fig, ax = plt.subplots()\n",
    "ax.plot(np.arange(len(y)), y);"
   ]
  },
  {
   "cell_type": "code",
   "execution_count": 34,
   "metadata": {},
   "outputs": [],
   "source": [
    "def ar1(y):\n",
    "    alpha = numpyro.sample(\n",
    "        'alpha',\n",
    "        numpyro.distributions.Normal(0, 1),\n",
    "    )\n",
    "    mu = numpyro.sample(\n",
    "        'mu',\n",
    "        numpyro.distributions.Normal(0, 1),\n",
    "    )\n",
    "    \n",
    "    sigma = numpyro.sample(\n",
    "        'sigma',\n",
    "        numpyro.distributions.HalfNormal(1),\n",
    "    )\n",
    "    \n",
    "    logp = 0\n",
    "    err = [y[0] - (mu)]\n",
    "    for t in range(1, len(y)):\n",
    "        err.append(y[t] - (alpha*y[t-1]))\n",
    "    \n",
    "    numpyro.factor(\n",
    "        'factor',\n",
    "        numpyro.distributions.Normal(0, sigma).log_prob(jax.numpy.array(err)),\n",
    "    )"
   ]
  },
  {
   "cell_type": "code",
   "execution_count": 35,
   "metadata": {},
   "outputs": [
    {
     "data": {
      "application/vnd.jupyter.widget-view+json": {
       "model_id": "8ca0c6452fd64a1f8726489c50abf768",
       "version_major": 2,
       "version_minor": 0
      },
      "text/plain": [
       "  0%|          | 0/2000 [00:00<?, ?it/s]"
      ]
     },
     "metadata": {},
     "output_type": "display_data"
    },
    {
     "data": {
      "application/vnd.jupyter.widget-view+json": {
       "model_id": "b487126a271e40ada919251ca4198811",
       "version_major": 2,
       "version_minor": 0
      },
      "text/plain": [
       "  0%|          | 0/2000 [00:00<?, ?it/s]"
      ]
     },
     "metadata": {},
     "output_type": "display_data"
    },
    {
     "data": {
      "application/vnd.jupyter.widget-view+json": {
       "model_id": "e27e4da617204df295b87b3414270545",
       "version_major": 2,
       "version_minor": 0
      },
      "text/plain": [
       "  0%|          | 0/2000 [00:00<?, ?it/s]"
      ]
     },
     "metadata": {},
     "output_type": "display_data"
    },
    {
     "data": {
      "application/vnd.jupyter.widget-view+json": {
       "model_id": "8b0e87c08d97492fa801456ba02410dc",
       "version_major": 2,
       "version_minor": 0
      },
      "text/plain": [
       "  0%|          | 0/2000 [00:00<?, ?it/s]"
      ]
     },
     "metadata": {},
     "output_type": "display_data"
    }
   ],
   "source": [
    "sampler = numpyro.infer.NUTS(ar1)\n",
    "mcmc = numpyro.infer.MCMC(sampler, num_samples=1000, num_warmup=1000, num_chains=4)\n",
    "mcmc.run(jax.random.PRNGKey(0), y=y)"
   ]
  },
  {
   "cell_type": "code",
   "execution_count": 36,
   "metadata": {},
   "outputs": [
    {
     "name": "stdout",
     "output_type": "stream",
     "text": [
      "\n",
      "                mean       std    median      5.0%     95.0%     n_eff     r_hat\n",
      "     alpha      0.50      0.05      0.50      0.41      0.59   4295.25      1.00\n",
      "        mu     -0.10      0.69     -0.10     -1.26      1.02   3269.12      1.00\n",
      "     sigma      1.00      0.04      1.00      0.92      1.07   4327.81      1.00\n",
      "\n",
      "Number of divergences: 0\n"
     ]
    }
   ],
   "source": [
    "mcmc.print_summary()"
   ]
  },
  {
   "cell_type": "code",
   "execution_count": 104,
   "metadata": {},
   "outputs": [],
   "source": [
    "y_pred = np.ones((4000, len(y)+steps))*np.hstack([y, np.zeros(steps)])"
   ]
  },
  {
   "cell_type": "code",
   "execution_count": 132,
   "metadata": {},
   "outputs": [],
   "source": [
    "steps = 10\n",
    "trace = mcmc.get_samples()\n",
    "for t in range(len(y), len(y)+steps):\n",
    "    pred = scipy.stats.norm(trace['alpha']*y_pred[:, t-1], trace['sigma']).rvs(len(trace['sigma']))\n",
    "    y_pred[:, t] = pred"
   ]
  },
  {
   "cell_type": "code",
   "execution_count": 133,
   "metadata": {},
   "outputs": [
    {
     "data": {
      "image/png": "[encoded data removed]",
      "text/plain": [
       "<Figure size 432x288 with 1 Axes>"
      ]
     },
     "metadata": {
      "needs_background": "light"
     },
     "output_type": "display_data"
    }
   ],
   "source": [
    "fig, ax = plt.subplots()\n",
    "ax.plot(np.arange(len(y)), y, 'o', color='orange');\n",
    "ax.fill_between(np.arange(len(y), len(y)+steps), *numpyro.diagnostics.hpdi(y_pred[:, -steps:]), alpha=.1, color='blue');"
   ]
  },
  {
   "cell_type": "markdown",
   "metadata": {},
   "source": [
    "## ARIMA(1, 0, 1)"
   ]
  },
  {
   "cell_type": "code",
   "execution_count": 134,
   "metadata": {},
   "outputs": [
    {
     "data": {
      "text/plain": [
       "array([-0.0841126 ,  0.50549904,  0.68080919,  0.98412678])"
      ]
     },
     "execution_count": 134,
     "metadata": {},
     "output_type": "execute_result"
    }
   ],
   "source": [
    "import numpy as np\n",
    "np.random.seed(12345)\n",
    "arparams = np.array([.4])\n",
    "maparams = np.array([.7])\n",
    "ar = np.r_[1, -arparams] # add zero-lag and negate\n",
    "ma = np.r_[1, maparams] # add zero-lag\n",
    "y = statsmodels.tsa.arima_process.arma_generate_sample(ar, ma, 250)\n",
    "model = statsmodels.tsa.arima.model.ARIMA(y, order=(1, 0, 1)).fit()\n",
    "model.params"
   ]
  },
  {
   "cell_type": "code",
   "execution_count": 135,
   "metadata": {},
   "outputs": [
    {
     "data": {
      "text/html": [
       "<table class=\"simpletable\">\n",
       "<caption>SARIMAX Results</caption>\n",
       "<tr>\n",
       "  <th>Dep. Variable:</th>           <td>y</td>        <th>  No. Observations:  </th>    <td>250</td>  \n",
       "</tr>\n",
       "<tr>\n",
       "  <th>Model:</th>            <td>ARIMA(1, 0, 1)</td>  <th>  Log Likelihood     </th> <td>-353.491</td>\n",
       "</tr>\n",
       "<tr>\n",
       "  <th>Date:</th>            <td>Sun, 01 Aug 2021</td> <th>  AIC                </th>  <td>714.982</td>\n",
       "</tr>\n",
       "<tr>\n",
       "  <th>Time:</th>                <td>15:31:55</td>     <th>  BIC                </th>  <td>729.067</td>\n",
       "</tr>\n",
       "<tr>\n",
       "  <th>Sample:</th>                  <td>0</td>        <th>  HQIC               </th>  <td>720.651</td>\n",
       "</tr>\n",
       "<tr>\n",
       "  <th></th>                      <td> - 250</td>      <th>                     </th>     <td> </td>   \n",
       "</tr>\n",
       "<tr>\n",
       "  <th>Covariance Type:</th>        <td>opg</td>       <th>                     </th>     <td> </td>   \n",
       "</tr>\n",
       "</table>\n",
       "<table class=\"simpletable\">\n",
       "<tr>\n",
       "     <td></td>       <th>coef</th>     <th>std err</th>      <th>z</th>      <th>P>|z|</th>  <th>[0.025</th>    <th>0.975]</th>  \n",
       "</tr>\n",
       "<tr>\n",
       "  <th>const</th>  <td>   -0.0841</td> <td>    0.214</td> <td>   -0.394</td> <td> 0.694</td> <td>   -0.503</td> <td>    0.335</td>\n",
       "</tr>\n",
       "<tr>\n",
       "  <th>ar.L1</th>  <td>    0.5055</td> <td>    0.059</td> <td>    8.498</td> <td> 0.000</td> <td>    0.389</td> <td>    0.622</td>\n",
       "</tr>\n",
       "<tr>\n",
       "  <th>ma.L1</th>  <td>    0.6808</td> <td>    0.052</td> <td>   13.042</td> <td> 0.000</td> <td>    0.578</td> <td>    0.783</td>\n",
       "</tr>\n",
       "<tr>\n",
       "  <th>sigma2</th> <td>    0.9841</td> <td>    0.092</td> <td>   10.735</td> <td> 0.000</td> <td>    0.804</td> <td>    1.164</td>\n",
       "</tr>\n",
       "</table>\n",
       "<table class=\"simpletable\">\n",
       "<tr>\n",
       "  <th>Ljung-Box (L1) (Q):</th>     <td>0.01</td> <th>  Jarque-Bera (JB):  </th> <td>0.25</td>\n",
       "</tr>\n",
       "<tr>\n",
       "  <th>Prob(Q):</th>                <td>0.92</td> <th>  Prob(JB):          </th> <td>0.88</td>\n",
       "</tr>\n",
       "<tr>\n",
       "  <th>Heteroskedasticity (H):</th> <td>0.91</td> <th>  Skew:              </th> <td>0.03</td>\n",
       "</tr>\n",
       "<tr>\n",
       "  <th>Prob(H) (two-sided):</th>    <td>0.68</td> <th>  Kurtosis:          </th> <td>2.86</td>\n",
       "</tr>\n",
       "</table><br/><br/>Warnings:<br/>[1] Covariance matrix calculated using the outer product of gradients (complex-step)."
      ],
      "text/plain": [
       "<class 'statsmodels.iolib.summary.Summary'>\n",
       "\"\"\"\n",
       "                               SARIMAX Results                                \n",
       "==============================================================================\n",
       "Dep. Variable:                      y   No. Observations:                  250\n",
       "Model:                 ARIMA(1, 0, 1)   Log Likelihood                -353.491\n",
       "Date:                Sun, 01 Aug 2021   AIC                            714.982\n",
       "Time:                        15:31:55   BIC                            729.067\n",
       "Sample:                             0   HQIC                           720.651\n",
       "                                - 250                                         \n",
       "Covariance Type:                  opg                                         \n",
       "==============================================================================\n",
       "                 coef    std err          z      P>|z|      [0.025      0.975]\n",
       "------------------------------------------------------------------------------\n",
       "const         -0.0841      0.214     -0.394      0.694      -0.503       0.335\n",
       "ar.L1          0.5055      0.059      8.498      0.000       0.389       0.622\n",
       "ma.L1          0.6808      0.052     13.042      0.000       0.578       0.783\n",
       "sigma2         0.9841      0.092     10.735      0.000       0.804       1.164\n",
       "===================================================================================\n",
       "Ljung-Box (L1) (Q):                   0.01   Jarque-Bera (JB):                 0.25\n",
       "Prob(Q):                              0.92   Prob(JB):                         0.88\n",
       "Heteroskedasticity (H):               0.91   Skew:                             0.03\n",
       "Prob(H) (two-sided):                  0.68   Kurtosis:                         2.86\n",
       "===================================================================================\n",
       "\n",
       "Warnings:\n",
       "[1] Covariance matrix calculated using the outer product of gradients (complex-step).\n",
       "\"\"\""
      ]
     },
     "execution_count": 135,
     "metadata": {},
     "output_type": "execute_result"
    }
   ],
   "source": [
    "model.summary()"
   ]
  },
  {
   "cell_type": "code",
   "execution_count": 136,
   "metadata": {},
   "outputs": [],
   "source": [
    "def ar1(y):\n",
    "    alpha = numpyro.sample(\n",
    "        'alpha',\n",
    "        numpyro.distributions.Normal(0, 1),\n",
    "    )\n",
    "    phi = numpyro.sample(\n",
    "        'phi',\n",
    "        numpyro.distributions.Normal(0, 1),\n",
    "    )\n",
    "    mu = numpyro.sample(\n",
    "        'mu',\n",
    "        numpyro.distributions.Normal(0, 1),\n",
    "    )\n",
    "    \n",
    "    sigma = numpyro.sample(\n",
    "        'sigma',\n",
    "        numpyro.distributions.HalfNormal(1),\n",
    "    )\n",
    "    \n",
    "    logp = 0\n",
    "    err = [y[0] - (mu + phi*mu)]\n",
    "    for t in range(1, len(y)):\n",
    "        err.append(y[t] - (alpha*y[t-1] + phi*err[-1]))\n",
    "    \n",
    "    numpyro.factor(\n",
    "        'factor',\n",
    "        numpyro.distributions.Normal(0, sigma).log_prob(jax.numpy.array(err[1:])),\n",
    "    )"
   ]
  },
  {
   "cell_type": "code",
   "execution_count": 137,
   "metadata": {},
   "outputs": [
    {
     "data": {
      "application/vnd.jupyter.widget-view+json": {
       "model_id": "6417a1173fed4d4788813c87ec94aa97",
       "version_major": 2,
       "version_minor": 0
      },
      "text/plain": [
       "  0%|          | 0/2000 [00:00<?, ?it/s]"
      ]
     },
     "metadata": {},
     "output_type": "display_data"
    },
    {
     "data": {
      "application/vnd.jupyter.widget-view+json": {
       "model_id": "5c30415ac10349bd82547d79aa6ab497",
       "version_major": 2,
       "version_minor": 0
      },
      "text/plain": [
       "  0%|          | 0/2000 [00:00<?, ?it/s]"
      ]
     },
     "metadata": {},
     "output_type": "display_data"
    },
    {
     "data": {
      "application/vnd.jupyter.widget-view+json": {
       "model_id": "d84eba6d112d47fcaff8203144a894c1",
       "version_major": 2,
       "version_minor": 0
      },
      "text/plain": [
       "  0%|          | 0/2000 [00:00<?, ?it/s]"
      ]
     },
     "metadata": {},
     "output_type": "display_data"
    },
    {
     "data": {
      "application/vnd.jupyter.widget-view+json": {
       "model_id": "7ac0cc5b020e4f7ba6ab86e8fb80bc3e",
       "version_major": 2,
       "version_minor": 0
      },
      "text/plain": [
       "  0%|          | 0/2000 [00:00<?, ?it/s]"
      ]
     },
     "metadata": {},
     "output_type": "display_data"
    }
   ],
   "source": [
    "sampler = numpyro.infer.NUTS(ar1)\n",
    "mcmc = numpyro.infer.MCMC(sampler, num_samples=1000, num_warmup=1000, num_chains=4)\n",
    "mcmc.run(jax.random.PRNGKey(0), y=y)"
   ]
  },
  {
   "cell_type": "code",
   "execution_count": 138,
   "metadata": {},
   "outputs": [
    {
     "name": "stdout",
     "output_type": "stream",
     "text": [
      "\n",
      "                mean       std    median      5.0%     95.0%     n_eff     r_hat\n",
      "     alpha      0.51      0.06      0.51      0.41      0.61   3217.86      1.00\n",
      "        mu     -0.07      0.57     -0.06     -0.97      0.87   3795.40      1.00\n",
      "       phi      0.67      0.06      0.67      0.57      0.76   3047.94      1.00\n",
      "     sigma      1.00      0.04      1.00      0.93      1.07   3587.27      1.00\n",
      "\n",
      "Number of divergences: 0\n"
     ]
    }
   ],
   "source": [
    "mcmc.print_summary()"
   ]
  },
  {
   "cell_type": "code",
   "execution_count": 104,
   "metadata": {},
   "outputs": [],
   "source": [
    "y_pred = np.ones((4000, len(y)+steps))*np.hstack([y, np.zeros(steps)])"
   ]
  },
  {
   "cell_type": "code",
   "execution_count": 139,
   "metadata": {},
   "outputs": [],
   "source": [
    "steps = 10\n",
    "trace = mcmc.get_samples()\n",
    "for t in range(len(y), len(y)+steps):\n",
    "    # mu = alpha*y_1 + phi*err_1\n",
    "    err_1 = y_pred[:, t-1] - (trace['alpha'])\n",
    "    pred = scipy.stats.norm(trace['alpha']*y_pred[:, t-1] + trace['phi']*(y_pred[:, t-1]-y_pred[:, t-1].mean()), trace['sigma']).rvs(len(trace['sigma']))\n",
    "    y_pred[:, t] = pred"
   ]
  },
  {
   "cell_type": "code",
   "execution_count": 141,
   "metadata": {},
   "outputs": [
    {
     "data": {
      "image/png": "[encoded data removed]",
      "text/plain": [
       "<Figure size 432x288 with 1 Axes>"
      ]
     },
     "metadata": {
      "needs_background": "light"
     },
     "output_type": "display_data"
    }
   ],
   "source": [
    "fig, ax = plt.subplots()\n",
    "ax.plot(np.arange(len(y)), y, 'o', color='orange');\n",
    "ax.fill_between(np.arange(len(y), len(y)+steps), *numpyro.diagnostics.hpdi(y_pred[:, -steps:]), alpha=.1, color='blue');\n",
    "ax.plot(np.arange(len(y), len(y)+steps), y_pred[:, -steps:].mean(axis=0), color='blue');"
   ]
  },
  {
   "cell_type": "markdown",
   "metadata": {},
   "source": [
    "## seasonal arima\n",
    "\n",
    "Don't know how to generate data, so...let's use the air passengers dataset?"
   ]
  },
  {
   "cell_type": "code",
   "execution_count": 211,
   "metadata": {},
   "outputs": [],
   "source": [
    "import pandas as pd\n",
    "df = pd.read_csv('AirPassengers.csv')\n",
    "y = df['#Passengers'].iloc[:-10].to_numpy()"
   ]
  },
  {
   "cell_type": "code",
   "execution_count": 212,
   "metadata": {},
   "outputs": [
    {
     "data": {
      "image/png": "[encoded data removed]",
      "text/plain": [
       "<Figure size 432x288 with 1 Axes>"
      ]
     },
     "metadata": {
      "needs_background": "light"
     },
     "output_type": "display_data"
    }
   ],
   "source": [
    "import matplotlib.pyplot as plt\n",
    "\n",
    "\n",
    "fig, ax = plt.subplots()\n",
    "ax.plot(np.arange(len(y)-1), y[1:]-y[:-1]);"
   ]
  },
  {
   "cell_type": "code",
   "execution_count": 213,
   "metadata": {},
   "outputs": [],
   "source": [
    "from statsmodels.tsa.stattools import pacf, acf"
   ]
  },
  {
   "cell_type": "code",
   "execution_count": 214,
   "metadata": {},
   "outputs": [
    {
     "name": "stderr",
     "output_type": "stream",
     "text": [
      "/home/marco/numpyro-dev/venv/lib/python3.8/site-packages/statsmodels/tsa/stattools.py:657: FutureWarning: The default number of lags is changing from 40 tomin(int(10 * np.log10(nobs)), nobs - 1) after 0.12is released. Set the number of lags to an integer to  silence this warning.\n",
      "  warnings.warn(\n",
      "/home/marco/numpyro-dev/venv/lib/python3.8/site-packages/statsmodels/tsa/stattools.py:667: FutureWarning: fft=True will become the default after the release of the 0.12 release of statsmodels. To suppress this warning, explicitly set fft=False.\n",
      "  warnings.warn(\n",
      "/home/marco/numpyro-dev/venv/lib/python3.8/site-packages/statsmodels/tsa/stattools.py:1024: FutureWarning: The default number of lags is changing from 40 tomin(int(10 * np.log10(nobs)), nobs // 2 - 1) after 0.12is released. Set the number of lags to an integer to  silence this warning.\n",
      "  warnings.warn(\n",
      "/home/marco/numpyro-dev/venv/lib/python3.8/site-packages/statsmodels/regression/linear_model.py:1434: RuntimeWarning: invalid value encountered in sqrt\n",
      "  return rho, np.sqrt(sigmasq)\n"
     ]
    },
    {
     "data": {
      "text/plain": [
       "[<matplotlib.lines.Line2D at 0x7f6fa0f40bb0>]"
      ]
     },
     "execution_count": 214,
     "metadata": {},
     "output_type": "execute_result"
    },
    {
     "data": {
      "image/png": "[encoded data removed]",
      "text/plain": [
       "<Figure size 432x288 with 2 Axes>"
      ]
     },
     "metadata": {
      "needs_background": "light"
     },
     "output_type": "display_data"
    }
   ],
   "source": [
    "y_diff = y[1:] - y[:-1]\n",
    "acf_data = acf(y_diff)\n",
    "pacf_data = pacf(y_diff)\n",
    "\n",
    "fig, ax = plt.subplots(nrows=2)\n",
    "ax[0].plot(np.arange(len(acf_data)), acf_data)\n",
    "ax[1].plot(np.arange(len(pacf_data)), pacf_data)"
   ]
  },
  {
   "cell_type": "code",
   "execution_count": 215,
   "metadata": {},
   "outputs": [
    {
     "data": {
      "text/plain": [
       "array([ 1.        ,  0.28747677, -0.22511158, -0.16824778, -0.23208721,\n",
       "        0.06360802, -0.23699183, -0.12397987, -0.53151111, -0.18521317,\n",
       "       -0.74616545, -0.25489136,  0.58943184, -0.12179267, -0.27099387,\n",
       "        0.35627247, -0.33723679, -0.44029923,  0.32638584,  0.20754998,\n",
       "       -0.76556305, -0.1919763 ,  2.4784282 ,  0.44278704,  2.47387352,\n",
       "       -0.69354484, -0.72477112,  0.35705198,  0.17100683, -0.36313868,\n",
       "       -0.03173108,  0.32117191, -0.35820416, -0.43205018,  0.55909469,\n",
       "       -0.11920355, -0.83464379,  2.63836145,  0.54117831,  2.42078791,\n",
       "       -0.15338543])"
      ]
     },
     "execution_count": 215,
     "metadata": {},
     "output_type": "execute_result"
    }
   ],
   "source": [
    "pacf_data"
   ]
  },
  {
   "cell_type": "code",
   "execution_count": 216,
   "metadata": {},
   "outputs": [],
   "source": [
    "from statsmodels.tsa.statespace.sarimax import SARIMAX"
   ]
  },
  {
   "cell_type": "code",
   "execution_count": 217,
   "metadata": {},
   "outputs": [
    {
     "name": "stderr",
     "output_type": "stream",
     "text": [
      "/home/marco/numpyro-dev/venv/lib/python3.8/site-packages/statsmodels/tsa/statespace/sarimax.py:997: UserWarning: Non-stationary starting seasonal autoregressive Using zeros as starting parameters.\n",
      "  warn('Non-stationary starting seasonal autoregressive'\n"
     ]
    },
    {
     "data": {
      "text/html": [
       "<table class=\"simpletable\">\n",
       "<caption>SARIMAX Results</caption>\n",
       "<tr>\n",
       "  <th>Dep. Variable:</th>                  <td>y</td>                <th>  No. Observations:  </th>   <td>133</td>  \n",
       "</tr>\n",
       "<tr>\n",
       "  <th>Model:</th>           <td>SARIMAX(1, 0, 1)x(1, 0, [], 12)</td> <th>  Log Likelihood     </th> <td>-57.262</td>\n",
       "</tr>\n",
       "<tr>\n",
       "  <th>Date:</th>                   <td>Sun, 01 Aug 2021</td>         <th>  AIC                </th> <td>122.523</td>\n",
       "</tr>\n",
       "<tr>\n",
       "  <th>Time:</th>                       <td>16:28:45</td>             <th>  BIC                </th> <td>134.085</td>\n",
       "</tr>\n",
       "<tr>\n",
       "  <th>Sample:</th>                         <td>0</td>                <th>  HQIC               </th> <td>127.221</td>\n",
       "</tr>\n",
       "<tr>\n",
       "  <th></th>                             <td> - 133</td>              <th>                     </th>    <td> </td>   \n",
       "</tr>\n",
       "<tr>\n",
       "  <th>Covariance Type:</th>               <td>opg</td>               <th>                     </th>    <td> </td>   \n",
       "</tr>\n",
       "</table>\n",
       "<table class=\"simpletable\">\n",
       "<tr>\n",
       "      <td></td>        <th>coef</th>     <th>std err</th>      <th>z</th>      <th>P>|z|</th>  <th>[0.025</th>    <th>0.975]</th>  \n",
       "</tr>\n",
       "<tr>\n",
       "  <th>ar.L1</th>    <td>   -0.5508</td> <td>    0.332</td> <td>   -1.657</td> <td> 0.097</td> <td>   -1.202</td> <td>    0.101</td>\n",
       "</tr>\n",
       "<tr>\n",
       "  <th>ma.L1</th>    <td>    0.3739</td> <td>    0.362</td> <td>    1.032</td> <td> 0.302</td> <td>   -0.337</td> <td>    1.084</td>\n",
       "</tr>\n",
       "<tr>\n",
       "  <th>ar.S.L12</th> <td>    0.9606</td> <td>    0.021</td> <td>   46.031</td> <td> 0.000</td> <td>    0.920</td> <td>    1.001</td>\n",
       "</tr>\n",
       "<tr>\n",
       "  <th>sigma2</th>   <td>    0.1099</td> <td>    0.014</td> <td>    8.015</td> <td> 0.000</td> <td>    0.083</td> <td>    0.137</td>\n",
       "</tr>\n",
       "</table>\n",
       "<table class=\"simpletable\">\n",
       "<tr>\n",
       "  <th>Ljung-Box (L1) (Q):</th>     <td>0.00</td> <th>  Jarque-Bera (JB):  </th> <td>4.12</td> \n",
       "</tr>\n",
       "<tr>\n",
       "  <th>Prob(Q):</th>                <td>1.00</td> <th>  Prob(JB):          </th> <td>0.13</td> \n",
       "</tr>\n",
       "<tr>\n",
       "  <th>Heteroskedasticity (H):</th> <td>2.30</td> <th>  Skew:              </th> <td>-0.02</td>\n",
       "</tr>\n",
       "<tr>\n",
       "  <th>Prob(H) (two-sided):</th>    <td>0.01</td> <th>  Kurtosis:          </th> <td>3.86</td> \n",
       "</tr>\n",
       "</table><br/><br/>Warnings:<br/>[1] Covariance matrix calculated using the outer product of gradients (complex-step)."
      ],
      "text/plain": [
       "<class 'statsmodels.iolib.summary.Summary'>\n",
       "\"\"\"\n",
       "                                      SARIMAX Results                                      \n",
       "===========================================================================================\n",
       "Dep. Variable:                                   y   No. Observations:                  133\n",
       "Model:             SARIMAX(1, 0, 1)x(1, 0, [], 12)   Log Likelihood                 -57.262\n",
       "Date:                             Sun, 01 Aug 2021   AIC                            122.523\n",
       "Time:                                     16:28:45   BIC                            134.085\n",
       "Sample:                                          0   HQIC                           127.221\n",
       "                                             - 133                                         \n",
       "Covariance Type:                               opg                                         \n",
       "==============================================================================\n",
       "                 coef    std err          z      P>|z|      [0.025      0.975]\n",
       "------------------------------------------------------------------------------\n",
       "ar.L1         -0.5508      0.332     -1.657      0.097      -1.202       0.101\n",
       "ma.L1          0.3739      0.362      1.032      0.302      -0.337       1.084\n",
       "ar.S.L12       0.9606      0.021     46.031      0.000       0.920       1.001\n",
       "sigma2         0.1099      0.014      8.015      0.000       0.083       0.137\n",
       "===================================================================================\n",
       "Ljung-Box (L1) (Q):                   0.00   Jarque-Bera (JB):                 4.12\n",
       "Prob(Q):                              1.00   Prob(JB):                         0.13\n",
       "Heteroskedasticity (H):               2.30   Skew:                            -0.02\n",
       "Prob(H) (two-sided):                  0.01   Kurtosis:                         3.86\n",
       "===================================================================================\n",
       "\n",
       "Warnings:\n",
       "[1] Covariance matrix calculated using the outer product of gradients (complex-step).\n",
       "\"\"\""
      ]
     },
     "execution_count": 217,
     "metadata": {},
     "output_type": "execute_result"
    }
   ],
   "source": [
    "mod = SARIMAX(scale(y_diff), order=(1, 0, 1), seasonal_order=(1, 0, 0, 12))\n",
    "fit = mod.fit()\n",
    "fit.summary()"
   ]
  },
  {
   "cell_type": "code",
   "execution_count": 218,
   "metadata": {},
   "outputs": [],
   "source": [
    "def scale(feat):\n",
    "    return (feat - np.mean(feat))/np.std(feat)"
   ]
  },
  {
   "cell_type": "code",
   "execution_count": 219,
   "metadata": {},
   "outputs": [],
   "source": [
    "def sarima(y):\n",
    "    alpha = numpyro.sample(\n",
    "        'alpha',\n",
    "        numpyro.distributions.TruncatedDistribution(numpyro.distributions.Normal(0, 1), low=-1, high=1),\n",
    "    )\n",
    "    phi = numpyro.sample(\n",
    "        'phi',\n",
    "        numpyro.distributions.TruncatedDistribution(numpyro.distributions.Normal(0, 1), low=-1, high=1),\n",
    "    )\n",
    "    mu = numpyro.sample(\n",
    "        'mu',\n",
    "        numpyro.distributions.Normal(0, 1),\n",
    "    )\n",
    "    alpha_12 = numpyro.sample(\n",
    "        'alpha_12',\n",
    "        numpyro.distributions.TruncatedDistribution(numpyro.distributions.Normal(0, 1), low=-1, high=1),\n",
    "    )\n",
    "    \n",
    "    sigma = numpyro.sample(\n",
    "        'sigma',\n",
    "        numpyro.distributions.HalfNormal(1),\n",
    "    )\n",
    "    \n",
    "    logp = 0\n",
    "    err = [y[0] - (mu + phi*mu)]\n",
    "    for t in range(13, len(y)):\n",
    "        err.append(y[t] - (alpha*y[t-1] + alpha_12*y[t-12] - alpha*alpha_12*y[t-13] + phi*err[-1]))\n",
    "    \n",
    "    numpyro.factor(\n",
    "        'factor',\n",
    "        numpyro.distributions.Normal(0, sigma).log_prob(jax.numpy.array(err[13:])),\n",
    "    )"
   ]
  },
  {
   "cell_type": "code",
   "execution_count": 220,
   "metadata": {},
   "outputs": [
    {
     "data": {
      "application/vnd.jupyter.widget-view+json": {
       "model_id": "b5949558edf6439282420362825b0922",
       "version_major": 2,
       "version_minor": 0
      },
      "text/plain": [
       "  0%|          | 0/2000 [00:00<?, ?it/s]"
      ]
     },
     "metadata": {},
     "output_type": "display_data"
    },
    {
     "data": {
      "application/vnd.jupyter.widget-view+json": {
       "model_id": "22835d6838164a8a8f0d525995dcedae",
       "version_major": 2,
       "version_minor": 0
      },
      "text/plain": [
       "  0%|          | 0/2000 [00:00<?, ?it/s]"
      ]
     },
     "metadata": {},
     "output_type": "display_data"
    },
    {
     "data": {
      "application/vnd.jupyter.widget-view+json": {
       "model_id": "0a5800d1d4d04749beba1107251acba9",
       "version_major": 2,
       "version_minor": 0
      },
      "text/plain": [
       "  0%|          | 0/2000 [00:00<?, ?it/s]"
      ]
     },
     "metadata": {},
     "output_type": "display_data"
    },
    {
     "data": {
      "application/vnd.jupyter.widget-view+json": {
       "model_id": "8327f7462bc1408cb53e3f6436608996",
       "version_major": 2,
       "version_minor": 0
      },
      "text/plain": [
       "  0%|          | 0/2000 [00:00<?, ?it/s]"
      ]
     },
     "metadata": {},
     "output_type": "display_data"
    }
   ],
   "source": [
    "sampler = numpyro.infer.NUTS(sarima)\n",
    "mcmc = numpyro.infer.MCMC(sampler, num_samples=1000, num_warmup=1000, num_chains=4)\n",
    "y_scaled = scale(y_diff)\n",
    "mcmc.run(jax.random.PRNGKey(0), y=y_scaled)"
   ]
  },
  {
   "cell_type": "code",
   "execution_count": 221,
   "metadata": {},
   "outputs": [
    {
     "name": "stdout",
     "output_type": "stream",
     "text": [
      "\n",
      "                mean       std    median      5.0%     95.0%     n_eff     r_hat\n",
      "     alpha     -0.14      0.45     -0.24     -0.76      0.67   1073.39      1.00\n",
      "  alpha_12      0.99      0.01      0.99      0.97      1.00   2913.68      1.00\n",
      "        mu      0.00      0.99      0.01     -1.70      1.56   2973.58      1.00\n",
      "       phi     -0.08      0.44      0.00     -0.86      0.56   1090.88      1.00\n",
      "     sigma      0.36      0.03      0.35      0.32      0.40   2560.58      1.00\n",
      "\n",
      "Number of divergences: 0\n"
     ]
    }
   ],
   "source": [
    "mcmc.print_summary()"
   ]
  },
  {
   "cell_type": "code",
   "execution_count": 222,
   "metadata": {},
   "outputs": [],
   "source": [
    "y_pred = np.ones((4000, len(y_scaled)+steps))*np.hstack([y_scaled, np.zeros(steps)])"
   ]
  },
  {
   "cell_type": "code",
   "execution_count": 223,
   "metadata": {},
   "outputs": [],
   "source": [
    "steps = 10\n",
    "trace = mcmc.get_samples()\n",
    "for t in range(len(y_scaled), len(y_scaled)+steps):\n",
    "    err_1 = y_pred[:, t-1] - (trace['alpha'])\n",
    "    pred = scipy.stats.norm(\n",
    "        (\n",
    "            trace['alpha']*y_pred[:, t-1]\n",
    "            + trace['alpha_12']*y_pred[:, t-12]\n",
    "            - trace['alpha_12']*trace['alpha']*y_pred[:, t-13]\n",
    "            + trace['phi']*(y_pred[:, t-1]-y_pred[:, t-1].mean())\n",
    "        ),\n",
    "        trace['sigma']).rvs(len(trace['sigma']),\n",
    "    )\n",
    "    y_pred[:, t] = pred"
   ]
  },
  {
   "cell_type": "code",
   "execution_count": 224,
   "metadata": {},
   "outputs": [
    {
     "data": {
      "image/png": "[encoded data removed]",
      "text/plain": [
       "<Figure size 432x288 with 1 Axes>"
      ]
     },
     "metadata": {
      "needs_background": "light"
     },
     "output_type": "display_data"
    }
   ],
   "source": [
    "fig, ax = plt.subplots()\n",
    "ax.plot(np.arange(len(y_scaled)), y_scaled, color='orange');\n",
    "ax.fill_between(np.arange(len(y_scaled), len(y_scaled)+steps), *numpyro.diagnostics.hpdi(y_pred[:, -steps:]), alpha=.1, color='blue');\n",
    "ax.plot(np.arange(len(y_scaled), len(y_scaled)+steps), y_pred[:, -steps:].mean(axis=0), color='blue');"
   ]
  },
  {
   "cell_type": "code",
   "execution_count": 225,
   "metadata": {},
   "outputs": [],
   "source": [
    "y_pred_unscaled = y_pred*np.std(y_diff)+np.mean(y_diff)"
   ]
  },
  {
   "cell_type": "code",
   "execution_count": 226,
   "metadata": {},
   "outputs": [
    {
     "data": {
      "text/plain": [
       "array([[  6.        ,  14.        ,  -3.        , ..., -49.40086522,\n",
       "        -30.30332354,  19.58451706],\n",
       "       [  6.        ,  14.        ,  -3.        , ..., -42.19148198,\n",
       "        -53.87044255,  36.23749975],\n",
       "       [  6.        ,  14.        ,  -3.        , ..., -67.38758703,\n",
       "        -45.61535966,  43.59555177],\n",
       "       ...,\n",
       "       [  6.        ,  14.        ,  -3.        , ..., -46.63430447,\n",
       "        -47.85335207,  36.61790497],\n",
       "       [  6.        ,  14.        ,  -3.        , ..., -60.73951987,\n",
       "        -14.87519875,  38.94112275],\n",
       "       [  6.        ,  14.        ,  -3.        , ..., -52.14730109,\n",
       "        -42.61984303,  24.88650745]])"
      ]
     },
     "execution_count": 226,
     "metadata": {},
     "output_type": "execute_result"
    }
   ],
   "source": [
    "y_pred_unscaled"
   ]
  },
  {
   "cell_type": "code",
   "execution_count": 227,
   "metadata": {},
   "outputs": [
    {
     "data": {
      "text/plain": [
       "(4000, 143)"
      ]
     },
     "execution_count": 227,
     "metadata": {},
     "output_type": "execute_result"
    }
   ],
   "source": [
    "y_pred.shape"
   ]
  },
  {
   "cell_type": "code",
   "execution_count": 228,
   "metadata": {},
   "outputs": [
    {
     "data": {
      "text/plain": [
       "(4000, 144)"
      ]
     },
     "execution_count": 228,
     "metadata": {},
     "output_type": "execute_result"
    }
   ],
   "source": [
    "restored = [np.ones(4000)*y[0]]\n",
    "for i in range(y_pred_unscaled.shape[1]):\n",
    "    restored.append(restored[-1]+y_pred_unscaled[:, i])\n",
    "restored = np.array(restored).T\n",
    "restored.shape"
   ]
  },
  {
   "cell_type": "code",
   "execution_count": 231,
   "metadata": {},
   "outputs": [
    {
     "data": {
      "image/png": "[encoded data removed]",
      "text/plain": [
       "<Figure size 432x288 with 1 Axes>"
      ]
     },
     "metadata": {
      "needs_background": "light"
     },
     "output_type": "display_data"
    }
   ],
   "source": [
    "fig, ax = plt.subplots()\n",
    "ax.plot(np.arange(len(y)), y, color='orange');\n",
    "ax.fill_between(np.arange(len(y), len(y)+steps), *numpyro.diagnostics.hpdi(restored[:, -steps:]), alpha=.1, color='blue');\n",
    "ax.plot(np.arange(len(y), len(y)+steps), restored[:, -steps:].mean(axis=0), color='blue');\n",
    "ax.plot(np.arange(len(df)), df['#Passengers'], color='orange');"
   ]
  },
  {
   "cell_type": "code",
   "execution_count": null,
   "metadata": {},
   "outputs": [],
   "source": []
  }
 ],
 "metadata": {
  "kernelspec": {
   "display_name": "numpyro",
   "language": "python",
   "name": "numpyro"
  },
  "language_info": {
   "codemirror_mode": {
    "name": "ipython",
    "version": 3
   },
   "file_extension": ".py",
   "mimetype": "text/x-python",
   "name": "python",
   "nbconvert_exporter": "python",
   "pygments_lexer": "ipython3",
   "version": "3.8.10"
  }
 },
 "nbformat": 4,
 "nbformat_minor": 4
}
