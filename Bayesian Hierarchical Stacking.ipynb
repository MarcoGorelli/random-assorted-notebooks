{
 "cells": [
  {
   "cell_type": "code",
   "execution_count": 1,
   "metadata": {},
   "outputs": [],
   "source": [
    "import numpyro\n",
    "import jax\n",
    "import numpy as np\n",
    "import scipy.stats as stats\n",
    "import pandas as pd\n",
    "import arviz as az\n",
    "import matplotlib.pyplot as plt\n",
    "import seaborn as sns\n",
    "import arviz as az\n",
    "\n",
    "sns.set()\n",
    "numpyro.set_host_device_count(4)"
   ]
  },
  {
   "cell_type": "code",
   "execution_count": 2,
   "metadata": {},
   "outputs": [
    {
     "data": {
      "text/html": [
       "<div>\n",
       "<style scoped>\n",
       "    .dataframe tbody tr th:only-of-type {\n",
       "        vertical-align: middle;\n",
       "    }\n",
       "\n",
       "    .dataframe tbody tr th {\n",
       "        vertical-align: top;\n",
       "    }\n",
       "\n",
       "    .dataframe thead th {\n",
       "        text-align: right;\n",
       "    }\n",
       "</style>\n",
       "<table border=\"1\" class=\"dataframe\">\n",
       "  <thead>\n",
       "    <tr style=\"text-align: right;\">\n",
       "      <th></th>\n",
       "      <th>switch</th>\n",
       "      <th>arsenic</th>\n",
       "      <th>dist</th>\n",
       "      <th>assoc</th>\n",
       "      <th>educ</th>\n",
       "      <th>dist100</th>\n",
       "      <th>edu0</th>\n",
       "      <th>edu1</th>\n",
       "      <th>edu2</th>\n",
       "      <th>edu3</th>\n",
       "      <th>logarsenic</th>\n",
       "      <th>assoc_half</th>\n",
       "      <th>powarsenic</th>\n",
       "      <th>asSquare</th>\n",
       "      <th>asthird</th>\n",
       "      <th>dist100_l</th>\n",
       "      <th>dist100_r</th>\n",
       "      <th>arsenic_l</th>\n",
       "      <th>arsenic_r</th>\n",
       "      <th>intercept</th>\n",
       "    </tr>\n",
       "  </thead>\n",
       "  <tbody>\n",
       "    <tr>\n",
       "      <th>0</th>\n",
       "      <td>1</td>\n",
       "      <td>2.36</td>\n",
       "      <td>16.826000</td>\n",
       "      <td>0</td>\n",
       "      <td>0</td>\n",
       "      <td>0.16826</td>\n",
       "      <td>1</td>\n",
       "      <td>0</td>\n",
       "      <td>0</td>\n",
       "      <td>0</td>\n",
       "      <td>0.858662</td>\n",
       "      <td>0.0</td>\n",
       "      <td>1.536229</td>\n",
       "      <td>0.737300</td>\n",
       "      <td>0.633091</td>\n",
       "      <td>-0.200895</td>\n",
       "      <td>0.000000</td>\n",
       "      <td>0.000000</td>\n",
       "      <td>0.607910</td>\n",
       "      <td>1</td>\n",
       "    </tr>\n",
       "    <tr>\n",
       "      <th>1</th>\n",
       "      <td>1</td>\n",
       "      <td>0.71</td>\n",
       "      <td>47.321999</td>\n",
       "      <td>0</td>\n",
       "      <td>0</td>\n",
       "      <td>0.47322</td>\n",
       "      <td>1</td>\n",
       "      <td>0</td>\n",
       "      <td>0</td>\n",
       "      <td>0</td>\n",
       "      <td>-0.342490</td>\n",
       "      <td>0.0</td>\n",
       "      <td>0.842615</td>\n",
       "      <td>0.117300</td>\n",
       "      <td>-0.040174</td>\n",
       "      <td>0.000000</td>\n",
       "      <td>0.104065</td>\n",
       "      <td>-0.593241</td>\n",
       "      <td>0.000000</td>\n",
       "      <td>1</td>\n",
       "    </tr>\n",
       "    <tr>\n",
       "      <th>2</th>\n",
       "      <td>0</td>\n",
       "      <td>2.07</td>\n",
       "      <td>20.966999</td>\n",
       "      <td>0</td>\n",
       "      <td>10</td>\n",
       "      <td>0.20967</td>\n",
       "      <td>0</td>\n",
       "      <td>0</td>\n",
       "      <td>1</td>\n",
       "      <td>0</td>\n",
       "      <td>0.727549</td>\n",
       "      <td>0.0</td>\n",
       "      <td>1.438749</td>\n",
       "      <td>0.529327</td>\n",
       "      <td>0.385111</td>\n",
       "      <td>-0.159485</td>\n",
       "      <td>0.000000</td>\n",
       "      <td>0.000000</td>\n",
       "      <td>0.476797</td>\n",
       "      <td>1</td>\n",
       "    </tr>\n",
       "    <tr>\n",
       "      <th>3</th>\n",
       "      <td>1</td>\n",
       "      <td>1.15</td>\n",
       "      <td>21.486000</td>\n",
       "      <td>0</td>\n",
       "      <td>12</td>\n",
       "      <td>0.21486</td>\n",
       "      <td>0</td>\n",
       "      <td>0</td>\n",
       "      <td>0</td>\n",
       "      <td>1</td>\n",
       "      <td>0.139762</td>\n",
       "      <td>0.0</td>\n",
       "      <td>1.072381</td>\n",
       "      <td>0.019533</td>\n",
       "      <td>0.002730</td>\n",
       "      <td>-0.154295</td>\n",
       "      <td>0.000000</td>\n",
       "      <td>-0.110989</td>\n",
       "      <td>0.000000</td>\n",
       "      <td>1</td>\n",
       "    </tr>\n",
       "    <tr>\n",
       "      <th>4</th>\n",
       "      <td>1</td>\n",
       "      <td>1.10</td>\n",
       "      <td>40.874001</td>\n",
       "      <td>1</td>\n",
       "      <td>14</td>\n",
       "      <td>0.40874</td>\n",
       "      <td>0</td>\n",
       "      <td>0</td>\n",
       "      <td>0</td>\n",
       "      <td>1</td>\n",
       "      <td>0.095310</td>\n",
       "      <td>0.5</td>\n",
       "      <td>1.048809</td>\n",
       "      <td>0.009084</td>\n",
       "      <td>0.000866</td>\n",
       "      <td>0.000000</td>\n",
       "      <td>0.039585</td>\n",
       "      <td>-0.155441</td>\n",
       "      <td>0.000000</td>\n",
       "      <td>1</td>\n",
       "    </tr>\n",
       "  </tbody>\n",
       "</table>\n",
       "</div>"
      ],
      "text/plain": [
       "   switch  arsenic       dist  assoc  educ  dist100  edu0  edu1  edu2  edu3  \\\n",
       "0       1     2.36  16.826000      0     0  0.16826     1     0     0     0   \n",
       "1       1     0.71  47.321999      0     0  0.47322     1     0     0     0   \n",
       "2       0     2.07  20.966999      0    10  0.20967     0     0     1     0   \n",
       "3       1     1.15  21.486000      0    12  0.21486     0     0     0     1   \n",
       "4       1     1.10  40.874001      1    14  0.40874     0     0     0     1   \n",
       "\n",
       "   logarsenic  assoc_half  powarsenic  asSquare   asthird  dist100_l  \\\n",
       "0    0.858662         0.0    1.536229  0.737300  0.633091  -0.200895   \n",
       "1   -0.342490         0.0    0.842615  0.117300 -0.040174   0.000000   \n",
       "2    0.727549         0.0    1.438749  0.529327  0.385111  -0.159485   \n",
       "3    0.139762         0.0    1.072381  0.019533  0.002730  -0.154295   \n",
       "4    0.095310         0.5    1.048809  0.009084  0.000866   0.000000   \n",
       "\n",
       "   dist100_r  arsenic_l  arsenic_r  intercept  \n",
       "0   0.000000   0.000000   0.607910          1  \n",
       "1   0.104065  -0.593241   0.000000          1  \n",
       "2   0.000000   0.000000   0.476797          1  \n",
       "3   0.000000  -0.110989   0.000000          1  \n",
       "4   0.039585  -0.155441   0.000000          1  "
      ]
     },
     "execution_count": 2,
     "metadata": {},
     "output_type": "execute_result"
    }
   ],
   "source": [
    "wells = pd.read_csv('wells.csv')\n",
    "wells['intercept'] = 1\n",
    "wells.head()"
   ]
  },
  {
   "cell_type": "code",
   "execution_count": 3,
   "metadata": {},
   "outputs": [],
   "source": [
    "train_idx = np.random.choice(np.arange(len(wells)), size=2000, replace=False)\n",
    "train = wells.iloc[train_idx].copy()\n",
    "test = wells.iloc[~train_idx].copy()"
   ]
  },
  {
   "cell_type": "code",
   "execution_count": 4,
   "metadata": {},
   "outputs": [],
   "source": [
    "X_train_stacking = train[['edu0', 'edu1', 'edu2', 'edu3', 'assoc_half', 'dist100_l', 'dist100_r', 'arsenic_l', 'arsenic_r', 'intercept']]\n",
    "X_test_stacking = test[['edu0', 'edu1', 'edu2', 'edu3', 'assoc_half', 'dist100_l', 'dist100_r', 'arsenic_l', 'arsenic_r', 'intercept']]"
   ]
  },
  {
   "cell_type": "code",
   "execution_count": 5,
   "metadata": {},
   "outputs": [],
   "source": [
    "features = (\n",
    "    ['dist100', 'arsenic', 'assoc', 'edu1', 'edu2', 'edu3'],\n",
    "    ['dist100', 'logarsenic', 'assoc', 'edu1', 'edu2', 'edu3'],\n",
    "    ['dist100', 'arsenic', 'asthird', 'asSquare', 'assoc', 'edu1', 'edu2', 'edu3'],\n",
    ")"
   ]
  },
  {
   "cell_type": "code",
   "execution_count": 6,
   "metadata": {},
   "outputs": [],
   "source": [
    "def logitstic(X, y=None):\n",
    "    beta = numpyro.sample(\n",
    "        'beta',\n",
    "        numpyro.distributions.Normal(0, 1),\n",
    "        sample_shape=(X.shape[1],),\n",
    "    ) \n",
    "    probs = numpyro.deterministic(\n",
    "        'probs',\n",
    "        jax.scipy.special.expit(jax.numpy.matmul(X, beta)),\n",
    "    )\n",
    "    \n",
    "    numpyro.sample(\n",
    "        'obs',\n",
    "        numpyro.distributions.Bernoulli(probs),\n",
    "        obs=y,\n",
    "    )"
   ]
  },
  {
   "cell_type": "code",
   "execution_count": 7,
   "metadata": {},
   "outputs": [
    {
     "data": {
      "application/vnd.jupyter.widget-view+json": {
       "model_id": "0654b32445e749458502a238227d9d44",
       "version_major": 2,
       "version_minor": 0
      },
      "text/plain": [
       "  0%|          | 0/2000 [00:00<?, ?it/s]"
      ]
     },
     "metadata": {},
     "output_type": "display_data"
    },
    {
     "data": {
      "application/vnd.jupyter.widget-view+json": {
       "model_id": "23457e5d2f184857afe75d4f6511ee18",
       "version_major": 2,
       "version_minor": 0
      },
      "text/plain": [
       "  0%|          | 0/2000 [00:00<?, ?it/s]"
      ]
     },
     "metadata": {},
     "output_type": "display_data"
    },
    {
     "data": {
      "application/vnd.jupyter.widget-view+json": {
       "model_id": "95a3142598364f4d806bd25a72e4c84a",
       "version_major": 2,
       "version_minor": 0
      },
      "text/plain": [
       "  0%|          | 0/2000 [00:00<?, ?it/s]"
      ]
     },
     "metadata": {},
     "output_type": "display_data"
    },
    {
     "data": {
      "application/vnd.jupyter.widget-view+json": {
       "model_id": "6880cde6a11c480c8e7501156d1ee7fe",
       "version_major": 2,
       "version_minor": 0
      },
      "text/plain": [
       "  0%|          | 0/2000 [00:00<?, ?it/s]"
      ]
     },
     "metadata": {},
     "output_type": "display_data"
    },
    {
     "data": {
      "application/vnd.jupyter.widget-view+json": {
       "model_id": "d87253db86854da08e575b7193b6e645",
       "version_major": 2,
       "version_minor": 0
      },
      "text/plain": [
       "  0%|          | 0/2000 [00:00<?, ?it/s]"
      ]
     },
     "metadata": {},
     "output_type": "display_data"
    },
    {
     "data": {
      "application/vnd.jupyter.widget-view+json": {
       "model_id": "a3cf3ad254374377881d163d03294ac1",
       "version_major": 2,
       "version_minor": 0
      },
      "text/plain": [
       "  0%|          | 0/2000 [00:00<?, ?it/s]"
      ]
     },
     "metadata": {},
     "output_type": "display_data"
    },
    {
     "data": {
      "application/vnd.jupyter.widget-view+json": {
       "model_id": "db71408803d24551bc9f89da3795be4f",
       "version_major": 2,
       "version_minor": 0
      },
      "text/plain": [
       "  0%|          | 0/2000 [00:00<?, ?it/s]"
      ]
     },
     "metadata": {},
     "output_type": "display_data"
    },
    {
     "data": {
      "application/vnd.jupyter.widget-view+json": {
       "model_id": "acf2367c1f5943119c1b3745fd83ff74",
       "version_major": 2,
       "version_minor": 0
      },
      "text/plain": [
       "  0%|          | 0/2000 [00:00<?, ?it/s]"
      ]
     },
     "metadata": {},
     "output_type": "display_data"
    },
    {
     "data": {
      "application/vnd.jupyter.widget-view+json": {
       "model_id": "faf70923db204ea5ba08225d24888cd1",
       "version_major": 2,
       "version_minor": 0
      },
      "text/plain": [
       "  0%|          | 0/2000 [00:00<?, ?it/s]"
      ]
     },
     "metadata": {},
     "output_type": "display_data"
    },
    {
     "data": {
      "application/vnd.jupyter.widget-view+json": {
       "model_id": "d5ff310d158b417a9462e1f0c3978caf",
       "version_major": 2,
       "version_minor": 0
      },
      "text/plain": [
       "  0%|          | 0/2000 [00:00<?, ?it/s]"
      ]
     },
     "metadata": {},
     "output_type": "display_data"
    },
    {
     "data": {
      "application/vnd.jupyter.widget-view+json": {
       "model_id": "1ba96ddd8abc4c8d91e79acdacf12964",
       "version_major": 2,
       "version_minor": 0
      },
      "text/plain": [
       "  0%|          | 0/2000 [00:00<?, ?it/s]"
      ]
     },
     "metadata": {},
     "output_type": "display_data"
    },
    {
     "data": {
      "application/vnd.jupyter.widget-view+json": {
       "model_id": "7ffe735d484748e98aa7c6f75ce1a71f",
       "version_major": 2,
       "version_minor": 0
      },
      "text/plain": [
       "  0%|          | 0/2000 [00:00<?, ?it/s]"
      ]
     },
     "metadata": {},
     "output_type": "display_data"
    }
   ],
   "source": [
    "mcmcs = {}\n",
    "for idx, feature in enumerate(features):\n",
    "    sampler = numpyro.infer.NUTS(logitstic)\n",
    "    mcmc = numpyro.infer.MCMC(sampler, num_chains=4, num_samples=1000, num_warmup=1000)\n",
    "    mcmc.run(\n",
    "        jax.random.PRNGKey(0),\n",
    "        X=train[feature].to_numpy(),\n",
    "        y=train['switch'].to_numpy(),\n",
    "    )\n",
    "    mcmcs[idx] = mcmc\n",
    "    \n",
    "lpd_point = np.vstack([az.loo(mcmcs[i], pointwise=True).loo_i for i in mcmcs]).T\n",
    "exp_lpd_point = np.exp(lpd_point)"
   ]
  },
  {
   "cell_type": "code",
   "execution_count": 8,
   "metadata": {},
   "outputs": [
    {
     "data": {
      "text/plain": [
       "array([[0.7409495 , 0.73975274, 0.70763617],\n",
       "       [0.77487059, 0.73592274, 0.75067373],\n",
       "       [0.57092617, 0.54559161, 0.63981994],\n",
       "       ...,\n",
       "       [0.21613321, 0.260161  , 0.24798684],\n",
       "       [0.39325045, 0.33183261, 0.45580495],\n",
       "       [0.67172112, 0.65549587, 0.65449954]])"
      ]
     },
     "execution_count": 8,
     "metadata": {},
     "output_type": "execute_result"
    }
   ],
   "source": [
    "exp_lpd_point"
   ]
  },
  {
   "cell_type": "markdown",
   "metadata": {},
   "source": [
    "Cool. So, now, we can fit optim.stan\n",
    "\n",
    "```\n",
    "data {\n",
    "\tint<lower=1> N;  // number of data points\n",
    "  int<lower=1> N_test;  // number of data points\n",
    "\tint<lower=1> d; //number of input variables\n",
    "\tint<lower=1> d_discrete; // number of discrete dummy inputs\n",
    "\tint<lower=3> K;  // number of models  when K=2, replace softmax by logistic for higher efficiency \n",
    "\tmatrix[N,d] X;   // predictors (including continous and discrete in dummy variables, no constant)\n",
    "\tmatrix[N_test,d] X_test;             \n",
    "\tmatrix[N,K] lpd_point;\n",
    "\treal tau_mu;\n",
    "\treal<lower=0> tau_sigma;\n",
    "}\n",
    "\n",
    "transformed data{\n",
    "\tmatrix[N,K] exp_lpd_point=exp(lpd_point);\n",
    "}\n",
    "\n",
    "parameters {\n",
    "\tvector[K-1] mu;\n",
    "\tvector<lower=0>[K-1] sigma;\n",
    "\tvector[d-d_discrete] beta_con[K-1];\n",
    "\tvector[d_discrete] tau[K-1];\n",
    "}\n",
    "\n",
    "\n",
    "transformed parameters{\n",
    "\tvector[d] beta[K-1];\n",
    "\tsimplex[K] w[N];\n",
    "    matrix[N,K] f;\n",
    "\t  for(k in 1:(K-1))\n",
    "\t  {\n",
    "\t  \tbeta[k]= append_row(mu[k]+ sigma[k]*tau[k], beta_con[k]);\n",
    "\t  }\n",
    "\t\tfor(k in 1:(K-1))\n",
    "\t\t\tf[,k]= X * beta[k];\n",
    "\t\tf[,K]=rep_vector(0, N);\n",
    "    for (n in 1:N)\n",
    "\t\t  w[n]=softmax( to_vector(f[n, 1:K])  );\n",
    "\t}\n",
    "model {\n",
    "\tfor(k in 1:(K-1)){\n",
    "        tau[k]~std_normal();\n",
    "        beta_con[k]~normal(0,1);\n",
    "\t}\n",
    "  \tmu~normal(0,tau_mu);\n",
    "  \tsigma~normal(0,tau_sigma);\n",
    "\tfor (i in 1: N) \n",
    "\t\ttarget += log( exp_lpd_point[i,] * w[i] );\n",
    "}\n",
    "generated quantities{\n",
    "\tmatrix[N_test,K] f_test;\n",
    "\t\tfor(k in 1:(K-1))\n",
    "\t\t\tf_test[,k]= X_test * beta[k];\n",
    "\t\tf_test[,K]=rep_vector(0, N_test);\n",
    "}\n",
    "```"
   ]
  },
  {
   "cell_type": "markdown",
   "metadata": {},
   "source": [
    "```\n",
    "αk(x) =\n",
    "D∑\n",
    "j=1\n",
    "(\n",
    "β2j−1,kx+con,j + β2j,kx−con,j\n",
    ")\n",
    "+ zk[xcat], k = 1,...,4; α5(x) = 0. (29)\n",
    "And place a default prior on parameters and hyper-parameters.\n",
    "zk[j] ∼normal(μk,σk), βj,μk ∼normal(0,1), σk ∼normal+(0,1).\n",
    "```"
   ]
  },
  {
   "cell_type": "code",
   "execution_count": 21,
   "metadata": {},
   "outputs": [],
   "source": [
    "def stacking(X_train_stacking, exp_lpd_point, d_discrete):\n",
    "    K = lpd_point.shape[1]\n",
    "    N = lpd_point.shape[0]\n",
    "    d = X_train_stacking.shape[1]\n",
    "    \n",
    "    logp = 0\n",
    "        \n",
    "    beta_con = numpyro.sample(\n",
    "        'beta_con',\n",
    "        numpyro.distributions.Normal(0, 1),\n",
    "        sample_shape=(K-1, d-d_discrete)\n",
    "    )\n",
    "    tau = numpyro.sample(\n",
    "        'tau',\n",
    "        numpyro.distributions.Normal(0, 1),\n",
    "        sample_shape=(K-1, d_discrete)\n",
    "    )\n",
    "        \n",
    "    mu = numpyro.sample(\n",
    "        'mu',\n",
    "        numpyro.distributions.Normal(0, 1),\n",
    "        sample_shape=(K-1,),\n",
    "    )    \n",
    "    sigma = numpyro.sample(\n",
    "        'sigma',\n",
    "        numpyro.distributions.Normal(0, 1),\n",
    "        sample_shape=(K-1,),\n",
    "    )    \n",
    "    \n",
    "    beta = jax.numpy.zeros((K-1, d))\n",
    "    w = jax.numpy.zeros((N, K))\n",
    "    beta = jax.numpy.vstack(\n",
    "        [\n",
    "            jax.numpy.hstack([mu[k] + sigma[k]*tau[k], beta_con[k]])\n",
    "            for k in range(K-1)\n",
    "        ],\n",
    "    ).T\n",
    "    \n",
    "    \n",
    "# \t\tfor(k in 1:(K-1))\n",
    "# \t\t\tf[,k]= X * beta[k];\n",
    "# \t\tf[,K]=rep_vector(0, N);\n",
    "#     for (n in 1:N)\n",
    "# \t\t  w[n]=softmax( to_vector(f[n, 1:K])  );\n",
    "    f = jax.numpy.concatenate([jax.numpy.matmul(X_train_stacking, beta), jax.numpy.zeros((N, 1))], axis=1)\n",
    "    w = jax.nn.softmax(f)\n",
    "    \n",
    "        \n",
    "#     for i in range(X_train_stacking.shape[0]):\n",
    "#         logp += jax.numpy.log(exp_lpd_point[i] * w[i])\n",
    "    logp = jax.numpy.sum(jax.numpy.log(exp_lpd_point*w))\n",
    "        \n",
    "    numpyro.factor('logp', logp)"
   ]
  },
  {
   "cell_type": "code",
   "execution_count": 22,
   "metadata": {},
   "outputs": [
    {
     "data": {
      "application/vnd.jupyter.widget-view+json": {
       "model_id": "8391648daf994593984b9bab3a16120f",
       "version_major": 2,
       "version_minor": 0
      },
      "text/plain": [
       "  0%|          | 0/2000 [00:00<?, ?it/s]"
      ]
     },
     "metadata": {},
     "output_type": "display_data"
    },
    {
     "data": {
      "application/vnd.jupyter.widget-view+json": {
       "model_id": "e6c61dc786be4f379538f39ee844e3dc",
       "version_major": 2,
       "version_minor": 0
      },
      "text/plain": [
       "  0%|          | 0/2000 [00:00<?, ?it/s]"
      ]
     },
     "metadata": {},
     "output_type": "display_data"
    },
    {
     "data": {
      "application/vnd.jupyter.widget-view+json": {
       "model_id": "aaa378577e3a4ad3aa7db2da3d951e82",
       "version_major": 2,
       "version_minor": 0
      },
      "text/plain": [
       "  0%|          | 0/2000 [00:00<?, ?it/s]"
      ]
     },
     "metadata": {},
     "output_type": "display_data"
    },
    {
     "data": {
      "application/vnd.jupyter.widget-view+json": {
       "model_id": "e408e28c8be949818db60aefa2a5e364",
       "version_major": 2,
       "version_minor": 0
      },
      "text/plain": [
       "  0%|          | 0/2000 [00:00<?, ?it/s]"
      ]
     },
     "metadata": {},
     "output_type": "display_data"
    }
   ],
   "source": [
    "sampler = numpyro.infer.NUTS(stacking)\n",
    "mcmc = numpyro.infer.MCMC(sampler, num_chains=4, num_samples=1000, num_warmup=1000)\n",
    "mcmc.run(\n",
    "    jax.random.PRNGKey(0),\n",
    "    X_train_stacking=X_train_stacking.to_numpy(),\n",
    "    exp_lpd_point=exp_lpd_point,\n",
    "    d_discrete=4,\n",
    ")"
   ]
  },
  {
   "cell_type": "code",
   "execution_count": 23,
   "metadata": {},
   "outputs": [
    {
     "name": "stdout",
     "output_type": "stream",
     "text": [
      "\n",
      "                   mean       std    median      5.0%     95.0%     n_eff     r_hat\n",
      "beta_con[0,0]     -0.00      0.13     -0.00     -0.21      0.21   4391.97      1.00\n",
      "beta_con[0,1]     -0.00      0.33     -0.00     -0.51      0.54   3229.51      1.00\n",
      "beta_con[0,2]      0.00      0.11      0.00     -0.17      0.18   3067.52      1.00\n",
      "beta_con[0,3]     -0.00      0.13     -0.00     -0.20      0.22   3141.69      1.00\n",
      "beta_con[0,4]      0.00      0.10      0.00     -0.16      0.15   3056.58      1.00\n",
      "beta_con[0,5]      0.00      0.68      0.01     -1.11      1.13   2310.66      1.00\n",
      "beta_con[1,0]      0.00      0.13      0.00     -0.21      0.22   3607.98      1.00\n",
      "beta_con[1,1]     -0.00      0.33      0.00     -0.52      0.56   3072.08      1.00\n",
      "beta_con[1,2]      0.00      0.11      0.00     -0.19      0.17   3132.46      1.00\n",
      "beta_con[1,3]     -0.00      0.13     -0.00     -0.21      0.22   3322.81      1.00\n",
      "beta_con[1,4]      0.00      0.10      0.00     -0.16      0.17   3117.54      1.00\n",
      "beta_con[1,5]      0.02      0.69      0.02     -1.07      1.19   2627.01      1.00\n",
      "        mu[0]     -0.00      0.68     -0.00     -1.10      1.12   2326.65      1.00\n",
      "        mu[1]     -0.02      0.69     -0.02     -1.13      1.12   2606.30      1.00\n",
      "     sigma[0]     -0.00      0.10     -0.00     -0.14      0.13   1520.98      1.00\n",
      "     sigma[1]     -0.00      0.09     -0.00     -0.13      0.13   2000.98      1.00\n",
      "     tau[0,0]     -0.01      0.84     -0.01     -1.37      1.35   4488.73      1.00\n",
      "     tau[0,1]      0.00      0.83      0.02     -1.43      1.32   4852.07      1.00\n",
      "     tau[0,2]      0.01      0.85      0.01     -1.42      1.38   4576.93      1.00\n",
      "     tau[0,3]     -0.00      0.88      0.01     -1.40      1.46   3833.90      1.00\n",
      "     tau[1,0]      0.01      0.86     -0.00     -1.44      1.39   4200.54      1.00\n",
      "     tau[1,1]      0.01      0.85     -0.00     -1.39      1.40   3872.00      1.00\n",
      "     tau[1,2]     -0.01      0.86     -0.00     -1.44      1.37   4546.33      1.00\n",
      "     tau[1,3]      0.00      0.89     -0.00     -1.43      1.54   4917.46      1.00\n",
      "\n",
      "Number of divergences: 0\n"
     ]
    }
   ],
   "source": [
    "mcmc.print_summary()"
   ]
  },
  {
   "cell_type": "code",
   "execution_count": 12,
   "metadata": {},
   "outputs": [],
   "source": [
    "# hmmm...all virtually zero. Is this...right?"
   ]
  },
  {
   "cell_type": "code",
   "execution_count": 13,
   "metadata": {},
   "outputs": [],
   "source": [
    "# hmmm...something's still wrong. Still got some work to do. Let's stop this for now."
   ]
  }
 ],
 "metadata": {
  "kernelspec": {
   "display_name": "numpyro",
   "language": "python",
   "name": "numpyro"
  },
  "language_info": {
   "codemirror_mode": {
    "name": "ipython",
    "version": 3
   },
   "file_extension": ".py",
   "mimetype": "text/x-python",
   "name": "python",
   "nbconvert_exporter": "python",
   "pygments_lexer": "ipython3",
   "version": "3.8.10"
  }
 },
 "nbformat": 4,
 "nbformat_minor": 4
}
