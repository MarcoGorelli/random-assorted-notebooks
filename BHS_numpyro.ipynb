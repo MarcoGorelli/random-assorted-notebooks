{
 "cells": [
  {
   "cell_type": "code",
   "execution_count": 7,
   "metadata": {},
   "outputs": [],
   "source": [
    "import numpyro\n",
    "import jax\n",
    "import numpy as np\n",
    "import scipy.stats as stats\n",
    "import pandas as pd\n",
    "import arviz as az\n",
    "import matplotlib.pyplot as plt\n",
    "import seaborn as sns\n",
    "import scipy\n",
    "import arviz as az\n",
    "from scipy.interpolate import BSpline\n",
    "\n",
    "sns.set()\n",
    "numpyro.set_host_device_count(4)"
   ]
  },
  {
   "cell_type": "markdown",
   "metadata": {},
   "source": [
    "## 1. Load data, split into train and test sets"
   ]
  },
  {
   "cell_type": "code",
   "execution_count": 22,
   "metadata": {},
   "outputs": [],
   "source": [
    "wells = pd.read_csv(\"wells/wells_raw.csv\")\n",
    "train_id = pd.read_csv(\"wells/train_id.csv\").squeeze() - 1\n",
    "y_train = wells.iloc[train_id][\"switch\"]\n",
    "y_test = wells.loc[~wells.index.isin(train_id)][\"switch\"]\n",
    "wells[\"intercept\"] = 1"
   ]
  },
  {
   "cell_type": "code",
   "execution_count": 23,
   "metadata": {},
   "outputs": [
    {
     "data": {
      "text/html": [
       "<div>\n",
       "<style scoped>\n",
       "    .dataframe tbody tr th:only-of-type {\n",
       "        vertical-align: middle;\n",
       "    }\n",
       "\n",
       "    .dataframe tbody tr th {\n",
       "        vertical-align: top;\n",
       "    }\n",
       "\n",
       "    .dataframe thead th {\n",
       "        text-align: right;\n",
       "    }\n",
       "</style>\n",
       "<table border=\"1\" class=\"dataframe\">\n",
       "  <thead>\n",
       "    <tr style=\"text-align: right;\">\n",
       "      <th></th>\n",
       "      <th>switch</th>\n",
       "      <th>arsenic</th>\n",
       "      <th>dist</th>\n",
       "      <th>assoc</th>\n",
       "      <th>educ</th>\n",
       "      <th>dist100</th>\n",
       "      <th>edu0</th>\n",
       "      <th>edu1</th>\n",
       "      <th>edu2</th>\n",
       "      <th>edu3</th>\n",
       "      <th>logarsenic</th>\n",
       "      <th>assoc_half</th>\n",
       "      <th>powarsenic</th>\n",
       "      <th>asSquare</th>\n",
       "      <th>asthird</th>\n",
       "      <th>intercept</th>\n",
       "    </tr>\n",
       "  </thead>\n",
       "  <tbody>\n",
       "    <tr>\n",
       "      <th>0</th>\n",
       "      <td>1</td>\n",
       "      <td>2.36</td>\n",
       "      <td>16.826000</td>\n",
       "      <td>0</td>\n",
       "      <td>0</td>\n",
       "      <td>0.16826</td>\n",
       "      <td>1</td>\n",
       "      <td>0</td>\n",
       "      <td>0</td>\n",
       "      <td>0</td>\n",
       "      <td>0.858662</td>\n",
       "      <td>0.0</td>\n",
       "      <td>1.536229</td>\n",
       "      <td>0.737300</td>\n",
       "      <td>0.633091</td>\n",
       "      <td>1</td>\n",
       "    </tr>\n",
       "    <tr>\n",
       "      <th>1</th>\n",
       "      <td>1</td>\n",
       "      <td>0.71</td>\n",
       "      <td>47.321999</td>\n",
       "      <td>0</td>\n",
       "      <td>0</td>\n",
       "      <td>0.47322</td>\n",
       "      <td>1</td>\n",
       "      <td>0</td>\n",
       "      <td>0</td>\n",
       "      <td>0</td>\n",
       "      <td>-0.342490</td>\n",
       "      <td>0.0</td>\n",
       "      <td>0.842615</td>\n",
       "      <td>0.117300</td>\n",
       "      <td>-0.040174</td>\n",
       "      <td>1</td>\n",
       "    </tr>\n",
       "    <tr>\n",
       "      <th>2</th>\n",
       "      <td>0</td>\n",
       "      <td>2.07</td>\n",
       "      <td>20.966999</td>\n",
       "      <td>0</td>\n",
       "      <td>10</td>\n",
       "      <td>0.20967</td>\n",
       "      <td>0</td>\n",
       "      <td>0</td>\n",
       "      <td>1</td>\n",
       "      <td>0</td>\n",
       "      <td>0.727549</td>\n",
       "      <td>0.0</td>\n",
       "      <td>1.438749</td>\n",
       "      <td>0.529327</td>\n",
       "      <td>0.385111</td>\n",
       "      <td>1</td>\n",
       "    </tr>\n",
       "    <tr>\n",
       "      <th>3</th>\n",
       "      <td>1</td>\n",
       "      <td>1.15</td>\n",
       "      <td>21.486000</td>\n",
       "      <td>0</td>\n",
       "      <td>12</td>\n",
       "      <td>0.21486</td>\n",
       "      <td>0</td>\n",
       "      <td>0</td>\n",
       "      <td>0</td>\n",
       "      <td>1</td>\n",
       "      <td>0.139762</td>\n",
       "      <td>0.0</td>\n",
       "      <td>1.072381</td>\n",
       "      <td>0.019533</td>\n",
       "      <td>0.002730</td>\n",
       "      <td>1</td>\n",
       "    </tr>\n",
       "    <tr>\n",
       "      <th>4</th>\n",
       "      <td>1</td>\n",
       "      <td>1.10</td>\n",
       "      <td>40.874001</td>\n",
       "      <td>1</td>\n",
       "      <td>14</td>\n",
       "      <td>0.40874</td>\n",
       "      <td>0</td>\n",
       "      <td>0</td>\n",
       "      <td>0</td>\n",
       "      <td>1</td>\n",
       "      <td>0.095310</td>\n",
       "      <td>0.5</td>\n",
       "      <td>1.048809</td>\n",
       "      <td>0.009084</td>\n",
       "      <td>0.000866</td>\n",
       "      <td>1</td>\n",
       "    </tr>\n",
       "    <tr>\n",
       "      <th>...</th>\n",
       "      <td>...</td>\n",
       "      <td>...</td>\n",
       "      <td>...</td>\n",
       "      <td>...</td>\n",
       "      <td>...</td>\n",
       "      <td>...</td>\n",
       "      <td>...</td>\n",
       "      <td>...</td>\n",
       "      <td>...</td>\n",
       "      <td>...</td>\n",
       "      <td>...</td>\n",
       "      <td>...</td>\n",
       "      <td>...</td>\n",
       "      <td>...</td>\n",
       "      <td>...</td>\n",
       "      <td>...</td>\n",
       "    </tr>\n",
       "    <tr>\n",
       "      <th>3015</th>\n",
       "      <td>0</td>\n",
       "      <td>0.52</td>\n",
       "      <td>19.347000</td>\n",
       "      <td>1</td>\n",
       "      <td>5</td>\n",
       "      <td>0.19347</td>\n",
       "      <td>0</td>\n",
       "      <td>1</td>\n",
       "      <td>0</td>\n",
       "      <td>0</td>\n",
       "      <td>-0.653926</td>\n",
       "      <td>0.5</td>\n",
       "      <td>0.721110</td>\n",
       "      <td>0.427620</td>\n",
       "      <td>-0.279632</td>\n",
       "      <td>1</td>\n",
       "    </tr>\n",
       "    <tr>\n",
       "      <th>3016</th>\n",
       "      <td>0</td>\n",
       "      <td>1.08</td>\n",
       "      <td>21.386000</td>\n",
       "      <td>1</td>\n",
       "      <td>3</td>\n",
       "      <td>0.21386</td>\n",
       "      <td>0</td>\n",
       "      <td>1</td>\n",
       "      <td>0</td>\n",
       "      <td>0</td>\n",
       "      <td>0.076961</td>\n",
       "      <td>0.5</td>\n",
       "      <td>1.039230</td>\n",
       "      <td>0.005923</td>\n",
       "      <td>0.000456</td>\n",
       "      <td>1</td>\n",
       "    </tr>\n",
       "    <tr>\n",
       "      <th>3017</th>\n",
       "      <td>0</td>\n",
       "      <td>0.51</td>\n",
       "      <td>7.708000</td>\n",
       "      <td>0</td>\n",
       "      <td>4</td>\n",
       "      <td>0.07708</td>\n",
       "      <td>0</td>\n",
       "      <td>1</td>\n",
       "      <td>0</td>\n",
       "      <td>0</td>\n",
       "      <td>-0.673345</td>\n",
       "      <td>0.0</td>\n",
       "      <td>0.714143</td>\n",
       "      <td>0.453393</td>\n",
       "      <td>-0.305290</td>\n",
       "      <td>1</td>\n",
       "    </tr>\n",
       "    <tr>\n",
       "      <th>3018</th>\n",
       "      <td>0</td>\n",
       "      <td>0.64</td>\n",
       "      <td>22.841999</td>\n",
       "      <td>0</td>\n",
       "      <td>3</td>\n",
       "      <td>0.22842</td>\n",
       "      <td>0</td>\n",
       "      <td>1</td>\n",
       "      <td>0</td>\n",
       "      <td>0</td>\n",
       "      <td>-0.446287</td>\n",
       "      <td>0.0</td>\n",
       "      <td>0.800000</td>\n",
       "      <td>0.199172</td>\n",
       "      <td>-0.088888</td>\n",
       "      <td>1</td>\n",
       "    </tr>\n",
       "    <tr>\n",
       "      <th>3019</th>\n",
       "      <td>1</td>\n",
       "      <td>0.66</td>\n",
       "      <td>20.844000</td>\n",
       "      <td>1</td>\n",
       "      <td>5</td>\n",
       "      <td>0.20844</td>\n",
       "      <td>0</td>\n",
       "      <td>1</td>\n",
       "      <td>0</td>\n",
       "      <td>0</td>\n",
       "      <td>-0.415515</td>\n",
       "      <td>0.5</td>\n",
       "      <td>0.812404</td>\n",
       "      <td>0.172653</td>\n",
       "      <td>-0.071740</td>\n",
       "      <td>1</td>\n",
       "    </tr>\n",
       "  </tbody>\n",
       "</table>\n",
       "<p>3020 rows × 16 columns</p>\n",
       "</div>"
      ],
      "text/plain": [
       "      switch  arsenic       dist  assoc  educ  dist100  edu0  edu1  edu2  \\\n",
       "0          1     2.36  16.826000      0     0  0.16826     1     0     0   \n",
       "1          1     0.71  47.321999      0     0  0.47322     1     0     0   \n",
       "2          0     2.07  20.966999      0    10  0.20967     0     0     1   \n",
       "3          1     1.15  21.486000      0    12  0.21486     0     0     0   \n",
       "4          1     1.10  40.874001      1    14  0.40874     0     0     0   \n",
       "...      ...      ...        ...    ...   ...      ...   ...   ...   ...   \n",
       "3015       0     0.52  19.347000      1     5  0.19347     0     1     0   \n",
       "3016       0     1.08  21.386000      1     3  0.21386     0     1     0   \n",
       "3017       0     0.51   7.708000      0     4  0.07708     0     1     0   \n",
       "3018       0     0.64  22.841999      0     3  0.22842     0     1     0   \n",
       "3019       1     0.66  20.844000      1     5  0.20844     0     1     0   \n",
       "\n",
       "      edu3  logarsenic  assoc_half  powarsenic  asSquare   asthird  intercept  \n",
       "0        0    0.858662         0.0    1.536229  0.737300  0.633091          1  \n",
       "1        0   -0.342490         0.0    0.842615  0.117300 -0.040174          1  \n",
       "2        0    0.727549         0.0    1.438749  0.529327  0.385111          1  \n",
       "3        1    0.139762         0.0    1.072381  0.019533  0.002730          1  \n",
       "4        1    0.095310         0.5    1.048809  0.009084  0.000866          1  \n",
       "...    ...         ...         ...         ...       ...       ...        ...  \n",
       "3015     0   -0.653926         0.5    0.721110  0.427620 -0.279632          1  \n",
       "3016     0    0.076961         0.5    1.039230  0.005923  0.000456          1  \n",
       "3017     0   -0.673345         0.0    0.714143  0.453393 -0.305290          1  \n",
       "3018     0   -0.446287         0.0    0.800000  0.199172 -0.088888          1  \n",
       "3019     0   -0.415515         0.5    0.812404  0.172653 -0.071740          1  \n",
       "\n",
       "[3020 rows x 16 columns]"
      ]
     },
     "execution_count": 23,
     "metadata": {},
     "output_type": "execute_result"
    }
   ],
   "source": [
    "wells"
   ]
  },
  {
   "cell_type": "markdown",
   "metadata": {},
   "source": [
    "## 2. Feature engineering"
   ]
  },
  {
   "cell_type": "code",
   "execution_count": 24,
   "metadata": {},
   "outputs": [],
   "source": [
    "def bs(x, knots, degree):\n",
    "    \"\"\"Replicates bs from splines package in R.\"\"\"\n",
    "    padded_knots = np.hstack(\n",
    "        [[x.min()] * (degree + 1), knots, [x.max()] * (degree + 1)]\n",
    "    )\n",
    "    return pd.DataFrame(\n",
    "        BSpline(padded_knots, np.eye(len(padded_knots) - degree - 1), degree)(x)[:, 1:]\n",
    "    )\n",
    "\n",
    "\n",
    "knots = np.quantile(wells.iloc[train_id][\"logarsenic\"], np.linspace(0.1, 0.9, num=10))\n",
    "B1 = bs(wells[\"logarsenic\"], knots=knots, degree=3)\n",
    "knots = np.quantile(wells.iloc[train_id][\"logarsenic\"], np.linspace(0.05, 0.95, num=10))\n",
    "B2 = bs(wells[\"logarsenic\"], knots=knots, degree=3)\n",
    "knots = np.quantile(wells.iloc[train_id][\"dist100\"], np.linspace(0.1, 0.9, num=10))\n",
    "B3 = bs(wells[\"dist100\"], knots=knots, degree=3)"
   ]
  },
  {
   "cell_type": "code",
   "execution_count": 25,
   "metadata": {},
   "outputs": [],
   "source": [
    "X = wells.loc[\n",
    "    wells.index[train_id],\n",
    "    [\"intercept\", \"dist100\", \"arsenic\", \"assoc\", \"edu1\", \"edu2\", \"edu3\"],\n",
    "]\n",
    "X2 = wells.loc[\n",
    "    wells.index[train_id],\n",
    "    [\"intercept\", \"dist100\", \"logarsenic\", \"assoc\", \"edu1\", \"edu2\", \"edu3\"],\n",
    "]\n",
    "X3 = wells.loc[\n",
    "    wells.index[train_id],\n",
    "    [\n",
    "        \"intercept\",\n",
    "        \"dist100\",\n",
    "        \"arsenic\",\n",
    "        \"asthird\",\n",
    "        \"asSquare\",\n",
    "        \"assoc\",\n",
    "        \"edu1\",\n",
    "        \"edu2\",\n",
    "        \"edu3\",\n",
    "    ],\n",
    "]\n",
    "X4 = pd.concat(\n",
    "    [\n",
    "        wells.loc[\n",
    "            wells.index[train_id],\n",
    "            [\"intercept\", \"dist100\", \"assoc\", \"edu1\", \"edu2\", \"edu3\"],\n",
    "        ],\n",
    "        B1.iloc[train_id],\n",
    "    ],\n",
    "    axis=1,\n",
    ")\n",
    "X5 = pd.concat(\n",
    "    [\n",
    "        wells.loc[\n",
    "            wells.index[train_id],\n",
    "            [\"intercept\", \"logarsenic\", \"assoc\", \"edu1\", \"edu2\", \"edu3\"],\n",
    "        ],\n",
    "        B3.iloc[train_id],\n",
    "    ],\n",
    "    axis=1,\n",
    ")\n",
    "X6 = wells.loc[\n",
    "    wells.index[train_id], [\"intercept\", \"dist100\", \"logarsenic\", \"assoc\", \"educ\"]\n",
    "]"
   ]
  },
  {
   "cell_type": "code",
   "execution_count": 26,
   "metadata": {},
   "outputs": [],
   "source": [
    "train_x_list = [X, X2, X3, X4, X5, X6]\n",
    "train_x_test_list = [X_test, X2_test, X3_test, X4_test, X5_test, X6_test]\n",
    "K = len(train_x_list)"
   ]
  },
  {
   "cell_type": "markdown",
   "metadata": {},
   "source": [
    "## 3. Train six different models"
   ]
  },
  {
   "cell_type": "code",
   "execution_count": 27,
   "metadata": {},
   "outputs": [],
   "source": [
    "def logistic(x, y=None):\n",
    "    beta = numpyro.sample(\n",
    "        \"beta\", numpyro.distributions.Normal(0, 3), sample_shape=(x.shape[1],)\n",
    "    )\n",
    "    logits = numpyro.deterministic(\"logits\", jax.numpy.matmul(x, beta))\n",
    "\n",
    "    numpyro.sample(\n",
    "        \"obs\",\n",
    "        numpyro.distributions.Bernoulli(logits=logits),\n",
    "        obs=y,\n",
    "    )"
   ]
  },
  {
   "cell_type": "code",
   "execution_count": 5,
   "metadata": {},
   "outputs": [
    {
     "data": {
      "application/vnd.jupyter.widget-view+json": {
       "model_id": "090a878369fe4220815288fa8ad1e070",
       "version_major": 2,
       "version_minor": 0
      },
      "text/plain": [
       "  0%|          | 0/2000 [00:00<?, ?it/s]"
      ]
     },
     "metadata": {},
     "output_type": "display_data"
    },
    {
     "data": {
      "application/vnd.jupyter.widget-view+json": {
       "model_id": "e871ed6cd15542a2badc73429c8d5103",
       "version_major": 2,
       "version_minor": 0
      },
      "text/plain": [
       "  0%|          | 0/2000 [00:00<?, ?it/s]"
      ]
     },
     "metadata": {},
     "output_type": "display_data"
    },
    {
     "data": {
      "application/vnd.jupyter.widget-view+json": {
       "model_id": "9795554573484416bf3af65ed54a4d6a",
       "version_major": 2,
       "version_minor": 0
      },
      "text/plain": [
       "  0%|          | 0/2000 [00:00<?, ?it/s]"
      ]
     },
     "metadata": {},
     "output_type": "display_data"
    },
    {
     "data": {
      "application/vnd.jupyter.widget-view+json": {
       "model_id": "7f447a07888249b990539631db164957",
       "version_major": 2,
       "version_minor": 0
      },
      "text/plain": [
       "  0%|          | 0/2000 [00:00<?, ?it/s]"
      ]
     },
     "metadata": {},
     "output_type": "display_data"
    },
    {
     "data": {
      "application/vnd.jupyter.widget-view+json": {
       "model_id": "882c444a51e74b1f970aea93eaa823b7",
       "version_major": 2,
       "version_minor": 0
      },
      "text/plain": [
       "  0%|          | 0/2000 [00:00<?, ?it/s]"
      ]
     },
     "metadata": {},
     "output_type": "display_data"
    },
    {
     "data": {
      "application/vnd.jupyter.widget-view+json": {
       "model_id": "36e4105385fe4725838ceb0b8d82db0b",
       "version_major": 2,
       "version_minor": 0
      },
      "text/plain": [
       "  0%|          | 0/2000 [00:00<?, ?it/s]"
      ]
     },
     "metadata": {},
     "output_type": "display_data"
    },
    {
     "data": {
      "application/vnd.jupyter.widget-view+json": {
       "model_id": "04a5b0783cf84184a3f67b0f2cc73230",
       "version_major": 2,
       "version_minor": 0
      },
      "text/plain": [
       "  0%|          | 0/2000 [00:00<?, ?it/s]"
      ]
     },
     "metadata": {},
     "output_type": "display_data"
    },
    {
     "data": {
      "application/vnd.jupyter.widget-view+json": {
       "model_id": "f25609195cd0438ea37b214956b4e59f",
       "version_major": 2,
       "version_minor": 0
      },
      "text/plain": [
       "  0%|          | 0/2000 [00:00<?, ?it/s]"
      ]
     },
     "metadata": {},
     "output_type": "display_data"
    },
    {
     "data": {
      "application/vnd.jupyter.widget-view+json": {
       "model_id": "dc898bc8966e4e71beac7feddd712950",
       "version_major": 2,
       "version_minor": 0
      },
      "text/plain": [
       "  0%|          | 0/2000 [00:00<?, ?it/s]"
      ]
     },
     "metadata": {},
     "output_type": "display_data"
    },
    {
     "data": {
      "application/vnd.jupyter.widget-view+json": {
       "model_id": "502b293969344da0b565c14c0561a0da",
       "version_major": 2,
       "version_minor": 0
      },
      "text/plain": [
       "  0%|          | 0/2000 [00:00<?, ?it/s]"
      ]
     },
     "metadata": {},
     "output_type": "display_data"
    },
    {
     "data": {
      "application/vnd.jupyter.widget-view+json": {
       "model_id": "26e2fc299a1d42a0be0a98ea9f4e29d9",
       "version_major": 2,
       "version_minor": 0
      },
      "text/plain": [
       "  0%|          | 0/2000 [00:00<?, ?it/s]"
      ]
     },
     "metadata": {},
     "output_type": "display_data"
    },
    {
     "data": {
      "application/vnd.jupyter.widget-view+json": {
       "model_id": "1e3b7ecc6c6f43f89245b6eb6c3fa7fa",
       "version_major": 2,
       "version_minor": 0
      },
      "text/plain": [
       "  0%|          | 0/2000 [00:00<?, ?it/s]"
      ]
     },
     "metadata": {},
     "output_type": "display_data"
    },
    {
     "data": {
      "application/vnd.jupyter.widget-view+json": {
       "model_id": "e916ef490fa342e29373e851a6e23742",
       "version_major": 2,
       "version_minor": 0
      },
      "text/plain": [
       "  0%|          | 0/2000 [00:00<?, ?it/s]"
      ]
     },
     "metadata": {},
     "output_type": "display_data"
    },
    {
     "data": {
      "application/vnd.jupyter.widget-view+json": {
       "model_id": "d447fa6e37f74112a1df1135160e041d",
       "version_major": 2,
       "version_minor": 0
      },
      "text/plain": [
       "  0%|          | 0/2000 [00:00<?, ?it/s]"
      ]
     },
     "metadata": {},
     "output_type": "display_data"
    },
    {
     "data": {
      "application/vnd.jupyter.widget-view+json": {
       "model_id": "52c9c8cd82864c4abe5fd4468b977ee4",
       "version_major": 2,
       "version_minor": 0
      },
      "text/plain": [
       "  0%|          | 0/2000 [00:00<?, ?it/s]"
      ]
     },
     "metadata": {},
     "output_type": "display_data"
    },
    {
     "data": {
      "application/vnd.jupyter.widget-view+json": {
       "model_id": "54796d3f3cb64ca8b62e0de3e299bdca",
       "version_major": 2,
       "version_minor": 0
      },
      "text/plain": [
       "  0%|          | 0/2000 [00:00<?, ?it/s]"
      ]
     },
     "metadata": {},
     "output_type": "display_data"
    },
    {
     "data": {
      "application/vnd.jupyter.widget-view+json": {
       "model_id": "67d2574f71aa4fcda10b11a32568341a",
       "version_major": 2,
       "version_minor": 0
      },
      "text/plain": [
       "  0%|          | 0/2000 [00:00<?, ?it/s]"
      ]
     },
     "metadata": {},
     "output_type": "display_data"
    },
    {
     "data": {
      "application/vnd.jupyter.widget-view+json": {
       "model_id": "31b7eb55445a45199592831b2bc4899b",
       "version_major": 2,
       "version_minor": 0
      },
      "text/plain": [
       "  0%|          | 0/2000 [00:00<?, ?it/s]"
      ]
     },
     "metadata": {},
     "output_type": "display_data"
    },
    {
     "data": {
      "application/vnd.jupyter.widget-view+json": {
       "model_id": "8a9ba1675e4e488794a316a2a74f95e7",
       "version_major": 2,
       "version_minor": 0
      },
      "text/plain": [
       "  0%|          | 0/2000 [00:00<?, ?it/s]"
      ]
     },
     "metadata": {},
     "output_type": "display_data"
    },
    {
     "data": {
      "application/vnd.jupyter.widget-view+json": {
       "model_id": "098924ffc1874f4dbeea89ae25a1d7aa",
       "version_major": 2,
       "version_minor": 0
      },
      "text/plain": [
       "  0%|          | 0/2000 [00:00<?, ?it/s]"
      ]
     },
     "metadata": {},
     "output_type": "display_data"
    },
    {
     "data": {
      "application/vnd.jupyter.widget-view+json": {
       "model_id": "12bf3929634a42bba55189f48a1dbbe1",
       "version_major": 2,
       "version_minor": 0
      },
      "text/plain": [
       "  0%|          | 0/2000 [00:00<?, ?it/s]"
      ]
     },
     "metadata": {},
     "output_type": "display_data"
    },
    {
     "data": {
      "application/vnd.jupyter.widget-view+json": {
       "model_id": "e89d48f8c8d64b22ade16cee002c4dca",
       "version_major": 2,
       "version_minor": 0
      },
      "text/plain": [
       "  0%|          | 0/2000 [00:00<?, ?it/s]"
      ]
     },
     "metadata": {},
     "output_type": "display_data"
    },
    {
     "data": {
      "application/vnd.jupyter.widget-view+json": {
       "model_id": "ce60d98efb8c4ed4936fb1162c61e62d",
       "version_major": 2,
       "version_minor": 0
      },
      "text/plain": [
       "  0%|          | 0/2000 [00:00<?, ?it/s]"
      ]
     },
     "metadata": {},
     "output_type": "display_data"
    },
    {
     "data": {
      "application/vnd.jupyter.widget-view+json": {
       "model_id": "0d387ba3a29a48d1ade1034f7fa130f7",
       "version_major": 2,
       "version_minor": 0
      },
      "text/plain": [
       "  0%|          | 0/2000 [00:00<?, ?it/s]"
      ]
     },
     "metadata": {},
     "output_type": "display_data"
    }
   ],
   "source": [
    "fit_list = []\n",
    "for k in range(K):\n",
    "    sampler = numpyro.infer.NUTS(logistic)\n",
    "    mcmc = numpyro.infer.MCMC(sampler, num_chains=4, num_samples=1000, num_warmup=1000)\n",
    "    mcmc.run(\n",
    "        jax.random.PRNGKey(0),\n",
    "        x=train_x_list[k].to_numpy(),\n",
    "        y=y_train.to_numpy(),\n",
    "    )\n",
    "    fit_list.append(mcmc)"
   ]
  },
  {
   "cell_type": "markdown",
   "metadata": {},
   "source": [
    "## 4. Get estimates of leave-one-out cross-validated score for each training point"
   ]
  },
  {
   "cell_type": "code",
   "execution_count": 6,
   "metadata": {},
   "outputs": [
    {
     "data": {
      "text/plain": [
       "array([-1.21421337, -0.61294174, -0.54019737, ..., -0.67241001,\n",
       "       -0.68872738, -1.53421211])"
      ]
     },
     "execution_count": 6,
     "metadata": {},
     "output_type": "execute_result"
    }
   ],
   "source": [
    "def find_point_wise_loo_score(fit):\n",
    "    return az.loo(az.from_numpyro(fit), pointwise=True, scale=\"log\").loo_i.values\n",
    "\n",
    "\n",
    "lpd_point = np.vstack([find_point_wise_loo_score(fit) for fit in fit_list]).T\n",
    "\n",
    "lpd_point.shape"
   ]
  },
  {
   "cell_type": "markdown",
   "metadata": {},
   "source": [
    "## 5. Prepare stacking datasets"
   ]
  },
  {
   "cell_type": "code",
   "execution_count": 28,
   "metadata": {},
   "outputs": [],
   "source": [
    "dist100_median = wells.loc[wells.index[train_id], \"dist100\"].median()\n",
    "logarsenic_median = wells.loc[wells.index[train_id], \"logarsenic\"].median()\n",
    "wells[\"dist100_l\"] = (wells[\"dist100\"] - dist100_median).clip(upper=0)\n",
    "wells[\"dist100_r\"] = (wells[\"dist100\"] - dist100_median).clip(lower=0)\n",
    "wells[\"logarsenic_l\"] = (wells[\"logarsenic\"] - logarsenic_median).clip(upper=0)\n",
    "wells[\"logarsenic_r\"] = (wells[\"logarsenic\"] - logarsenic_median).clip(lower=0)"
   ]
  },
  {
   "cell_type": "markdown",
   "metadata": {},
   "source": [
    "## 6. Define stacking model"
   ]
  },
  {
   "cell_type": "code",
   "execution_count": 8,
   "metadata": {},
   "outputs": [],
   "source": [
    "def stacking(\n",
    "    X,\n",
    "    N,\n",
    "    d,\n",
    "    d_discrete,\n",
    "    X_test,\n",
    "    N_test,\n",
    "    lpd_point,\n",
    "    K,\n",
    "    tau_mu,\n",
    "    tau_sigma,\n",
    "):\n",
    "    assert X.shape == (N, d)\n",
    "    assert X_test.shape == (N_test, d)\n",
    "    assert lpd_point.shape == (N, K)\n",
    "\n",
    "    exp_lpd_point = jax.numpy.exp(lpd_point)\n",
    "\n",
    "    beta_con = numpyro.sample(\n",
    "        \"beta_con\",\n",
    "        numpyro.distributions.Normal(0, 1),\n",
    "        sample_shape=(K - 1, d - d_discrete),\n",
    "    )\n",
    "    tau = numpyro.sample(\n",
    "        \"tau\", numpyro.distributions.Normal(0, 1), sample_shape=(K - 1, d_discrete)\n",
    "    )\n",
    "\n",
    "    mu = numpyro.sample(\n",
    "        \"mu\",\n",
    "        numpyro.distributions.Normal(0, tau_mu),\n",
    "        sample_shape=(K - 1,),\n",
    "    )\n",
    "    sigma = numpyro.sample(\n",
    "        \"sigma\",\n",
    "        numpyro.distributions.TruncatedNormal(low=0, loc=0, scale=tau_sigma),\n",
    "        sample_shape=(K - 1,),\n",
    "    )\n",
    "\n",
    "    beta = numpyro.deterministic(\n",
    "        \"beta\",\n",
    "        jax.numpy.vstack(\n",
    "            [\n",
    "                jax.numpy.hstack([mu[k] + sigma[k] * tau[k], beta_con[k]])\n",
    "                for k in range(K - 1)\n",
    "            ],\n",
    "        ),\n",
    "    )\n",
    "    assert beta.shape == (K - 1, d)\n",
    "\n",
    "    f = jax.numpy.hstack(\n",
    "        [\n",
    "            jax.numpy.vstack(\n",
    "                [jax.numpy.matmul(X, beta[k]) for k in range(K - 1)],\n",
    "            ).T,\n",
    "            jax.numpy.zeros((N, 1)),\n",
    "        ]\n",
    "    )\n",
    "    assert f.shape == (N, K)\n",
    "\n",
    "    w = numpyro.deterministic(\"w\", jax.nn.softmax(f))\n",
    "\n",
    "    logp = jax.numpy.log((exp_lpd_point * w).sum(axis=1))\n",
    "    assert logp.shape == (N,)\n",
    "\n",
    "    numpyro.factor(\"logp\", jax.numpy.sum(logp))\n",
    "\n",
    "    f_test = jax.numpy.hstack(\n",
    "        [\n",
    "            jax.numpy.vstack(\n",
    "                [jax.numpy.matmul(X_test, beta[k]) for k in range(K - 1)],\n",
    "            ).T,\n",
    "            jax.numpy.zeros((N_test, 1)),\n",
    "        ]\n",
    "    )\n",
    "    numpyro.deterministic(\n",
    "        \"f_test\",\n",
    "        f_test,\n",
    "    )"
   ]
  },
  {
   "cell_type": "code",
   "execution_count": 9,
   "metadata": {},
   "outputs": [
    {
     "data": {
      "application/vnd.jupyter.widget-view+json": {
       "model_id": "4050271bf7424d42a584fccf2ee5baad",
       "version_major": 2,
       "version_minor": 0
      },
      "text/plain": [
       "  0%|          | 0/2000 [00:00<?, ?it/s]"
      ]
     },
     "metadata": {},
     "output_type": "display_data"
    },
    {
     "data": {
      "application/vnd.jupyter.widget-view+json": {
       "model_id": "20ce26f1854e4d0e99a01d7c9846c48d",
       "version_major": 2,
       "version_minor": 0
      },
      "text/plain": [
       "  0%|          | 0/2000 [00:00<?, ?it/s]"
      ]
     },
     "metadata": {},
     "output_type": "display_data"
    },
    {
     "data": {
      "application/vnd.jupyter.widget-view+json": {
       "model_id": "aa4cf188e98a45faa1b5f19ef355d775",
       "version_major": 2,
       "version_minor": 0
      },
      "text/plain": [
       "  0%|          | 0/2000 [00:00<?, ?it/s]"
      ]
     },
     "metadata": {},
     "output_type": "display_data"
    },
    {
     "data": {
      "application/vnd.jupyter.widget-view+json": {
       "model_id": "b7b9089b38c6446aa577c5281a8dae07",
       "version_major": 2,
       "version_minor": 0
      },
      "text/plain": [
       "  0%|          | 0/2000 [00:00<?, ?it/s]"
      ]
     },
     "metadata": {},
     "output_type": "display_data"
    }
   ],
   "source": [
    "sampler = numpyro.infer.NUTS(stacking)\n",
    "mcmc = numpyro.infer.MCMC(sampler, num_chains=4, num_samples=1000, num_warmup=1000)\n",
    "mcmc.run(\n",
    "    jax.random.PRNGKey(0),\n",
    "    X=X_stacking_train.to_numpy(),\n",
    "    N=X_stacking_train.shape[0],\n",
    "    d=X_stacking_train.shape[1],\n",
    "    d_discrete=4,\n",
    "    X_test=X_stacking_test.to_numpy(),\n",
    "    N_test=X_stacking_test.shape[0],\n",
    "    lpd_point=lpd_point,\n",
    "    K=lpd_point.shape[1],\n",
    "    tau_mu=1.0,\n",
    "    tau_sigma=0.5,\n",
    ")"
   ]
  },
  {
   "cell_type": "markdown",
   "metadata": {},
   "source": [
    "## 7. Let's check how the weights vary over the input"
   ]
  },
  {
   "cell_type": "code",
   "execution_count": 10,
   "metadata": {},
   "outputs": [
    {
     "data": {
      "text/plain": [
       "DeviceArray([0.08194001, 0.12519534, 0.23332568, 0.21504061, 0.23639654,\n",
       "             0.10810176], dtype=float32)"
      ]
     },
     "execution_count": 10,
     "metadata": {},
     "output_type": "execute_result"
    }
   ],
   "source": [
    "mcmc.get_samples()[\"w\"].mean(axis=(0, 1))"
   ]
  },
  {
   "cell_type": "code",
   "execution_count": 11,
   "metadata": {},
   "outputs": [
    {
     "data": {
      "text/plain": [
       "<AxesSubplot:>"
      ]
     },
     "execution_count": 11,
     "metadata": {},
     "output_type": "execute_result"
    },
    {
     "data": {
      "image/png": "[encoded data removed]",
      "text/plain": [
       "<Figure size 432x288 with 1 Axes>"
      ]
     },
     "metadata": {},
     "output_type": "display_data"
    }
   ],
   "source": [
    "pd.DataFrame(mcmc.get_samples()[\"w\"].mean(axis=0)).plot()"
   ]
  },
  {
   "cell_type": "code",
   "execution_count": 12,
   "metadata": {},
   "outputs": [
    {
     "data": {
      "text/plain": [
       "(4000, 1020)"
      ]
     },
     "execution_count": 12,
     "metadata": {},
     "output_type": "execute_result"
    }
   ],
   "source": [
    "f_test = mcmc.get_samples()[\"f_test\"]\n",
    "S, n_test, _ = f_test.shape\n",
    "S, n_test"
   ]
  },
  {
   "cell_type": "code",
   "execution_count": 13,
   "metadata": {},
   "outputs": [
    {
     "data": {
      "text/plain": [
       "DeviceArray([[0.08109247, 0.1445328 , 0.23062848, 0.19499785, 0.23062138,\n",
       "              0.11812702],\n",
       "             [0.05871011, 0.09582474, 0.24008054, 0.28337383, 0.21966596,\n",
       "              0.10234483],\n",
       "             [0.08405714, 0.11426899, 0.23185614, 0.22593406, 0.23237725,\n",
       "              0.1115064 ],\n",
       "             ...,\n",
       "             [0.06871509, 0.10848102, 0.23838434, 0.2500348 , 0.22202422,\n",
       "              0.11236054],\n",
       "             [0.0587201 , 0.08264466, 0.22927894, 0.2829305 , 0.25634852,\n",
       "              0.09007739],\n",
       "             [0.08798955, 0.11366874, 0.22808175, 0.20718762, 0.25153977,\n",
       "              0.11153258]], dtype=float32)"
      ]
     },
     "execution_count": 13,
     "metadata": {},
     "output_type": "execute_result"
    }
   ],
   "source": [
    "w_test = jax.nn.softmax(f_test, axis=2).mean(axis=0)\n",
    "w_test"
   ]
  },
  {
   "cell_type": "markdown",
   "metadata": {},
   "source": [
    "## 8. Make predictions"
   ]
  },
  {
   "cell_type": "code",
   "execution_count": 14,
   "metadata": {},
   "outputs": [],
   "source": [
    "train_preds = []\n",
    "for k in range(K):\n",
    "    train_pred = numpyro.infer.Predictive(logistic, fit_list[k].get_samples())\n",
    "    train_preds.append(\n",
    "        train_pred(jax.random.PRNGKey(0), x=train_x_list[k].to_numpy(),)[\n",
    "            \"logits\"\n",
    "        ].mean(axis=0)\n",
    "    )\n",
    "train_preds = np.vstack(train_preds).T"
   ]
  },
  {
   "cell_type": "code",
   "execution_count": 15,
   "metadata": {},
   "outputs": [],
   "source": [
    "preds = []\n",
    "for k in range(K):\n",
    "    post_pred = numpyro.infer.Predictive(logistic, fit_list[k].get_samples())\n",
    "    preds.append(\n",
    "        post_pred(jax.random.PRNGKey(0), x=train_x_test_list[k].to_numpy(),)[\n",
    "            \"logits\"\n",
    "        ].mean(axis=0)\n",
    "    )\n",
    "preds = np.vstack(preds).T"
   ]
  },
  {
   "cell_type": "code",
   "execution_count": 16,
   "metadata": {},
   "outputs": [],
   "source": [
    "pooled_predictions = (w_test * preds).sum(axis=1)"
   ]
  },
  {
   "cell_type": "code",
   "execution_count": 17,
   "metadata": {},
   "outputs": [
    {
     "data": {
      "text/plain": [
       "(1020,)"
      ]
     },
     "execution_count": 17,
     "metadata": {},
     "output_type": "execute_result"
    }
   ],
   "source": [
    "pooled_predictions.shape"
   ]
  },
  {
   "cell_type": "markdown",
   "metadata": {},
   "source": [
    "## 9. Predict on test set"
   ]
  },
  {
   "cell_type": "markdown",
   "metadata": {},
   "source": [
    "## use hierarchical stacking"
   ]
  },
  {
   "cell_type": "code",
   "execution_count": 19,
   "metadata": {},
   "outputs": [
    {
     "data": {
      "text/plain": [
       "DeviceArray(-0.6625211, dtype=float32)"
      ]
     },
     "execution_count": 19,
     "metadata": {},
     "output_type": "execute_result"
    }
   ],
   "source": [
    "numpyro.distributions.Bernoulli(logits=pooled_predictions).log_prob(\n",
    "    y_test.to_numpy()\n",
    ").mean()"
   ]
  },
  {
   "cell_type": "markdown",
   "metadata": {},
   "source": [
    "## using model with best lpd (model selection)"
   ]
  },
  {
   "cell_type": "code",
   "execution_count": 20,
   "metadata": {},
   "outputs": [
    {
     "data": {
      "text/plain": [
       "DeviceArray(-0.97029436, dtype=float32)"
      ]
     },
     "execution_count": 20,
     "metadata": {},
     "output_type": "execute_result"
    }
   ],
   "source": [
    "numpyro.distributions.Bernoulli(\n",
    "    logits=preds[:, lpd_point.sum(axis=0).argmax()]\n",
    ").log_prob(y_test.to_numpy()).mean()"
   ]
  },
  {
   "cell_type": "markdown",
   "metadata": {},
   "source": [
    "## using stacking (weights don't vary over input)"
   ]
  },
  {
   "cell_type": "code",
   "execution_count": 21,
   "metadata": {},
   "outputs": [
    {
     "data": {
      "text/plain": [
       "DeviceArray(-0.8855619, dtype=float32)"
      ]
     },
     "execution_count": 21,
     "metadata": {},
     "output_type": "execute_result"
    }
   ],
   "source": [
    "numpyro.distributions.Bernoulli(\n",
    "    logits=(jax.nn.softmax(lpd_point.sum(axis=0)) * preds).sum(axis=1)\n",
    ").log_prob(y_test.to_numpy()).mean()"
   ]
  },
  {
   "cell_type": "markdown",
   "metadata": {},
   "source": [
    "## using simple model averaging"
   ]
  },
  {
   "cell_type": "code",
   "execution_count": 22,
   "metadata": {},
   "outputs": [
    {
     "data": {
      "text/plain": [
       "DeviceArray(-0.6555981, dtype=float32)"
      ]
     },
     "execution_count": 22,
     "metadata": {},
     "output_type": "execute_result"
    }
   ],
   "source": [
    "numpyro.distributions.Bernoulli(logits=preds.mean(axis=1)).log_prob(\n",
    "    y_test.to_numpy()\n",
    ").mean()"
   ]
  },
  {
   "cell_type": "code",
   "execution_count": null,
   "metadata": {},
   "outputs": [],
   "source": []
  }
 ],
 "metadata": {
  "kernelspec": {
   "display_name": "numpyro",
   "language": "python",
   "name": "numpyro"
  },
  "language_info": {
   "codemirror_mode": {
    "name": "ipython",
    "version": 3
   },
   "file_extension": ".py",
   "mimetype": "text/x-python",
   "name": "python",
   "nbconvert_exporter": "python",
   "pygments_lexer": "ipython3",
   "version": "3.8.10"
  }
 },
 "nbformat": 4,
 "nbformat_minor": 4
}
